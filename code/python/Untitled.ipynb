{
 "cells": [
  {
   "cell_type": "code",
   "execution_count": 1,
   "metadata": {},
   "outputs": [
    {
     "name": "stderr",
     "output_type": "stream",
     "text": [
      "/usr/local/lib/python2.7/dist-packages/h5py/__init__.py:36: FutureWarning: Conversion of the second argument of issubdtype from `float` to `np.floating` is deprecated. In future, it will be treated as `np.float64 == np.dtype(float).type`.\n",
      "  from ._conv import register_converters as _register_converters\n"
     ]
    }
   ],
   "source": [
    "import random\n",
    "\n",
    "import numpy as np\n",
    "import torch\n",
    "import math\n",
    "import torch.nn as nn\n",
    "from PIL import Image\n",
    "from torch.autograd import Variable\n",
    "from torchvision.transforms import transforms\n",
    "\n",
    "from commons import inc_convolution, inc_max_pool\n",
    "from imagenet_classes import class_names\n",
    "from vgg16 import VGG16\n",
    "\n",
    "import matplotlib.pyplot as plt\n",
    "\n",
    "%matplotlib inline"
   ]
  },
  {
   "cell_type": "code",
   "execution_count": 3,
   "metadata": {},
   "outputs": [
    {
     "name": "stdout",
     "output_type": "stream",
     "text": [
      "(tensor([[ 103,  103]], dtype=torch.int32, device='cuda:0'), 18, torch.Size([1, 64, 18, 18]))\n",
      "(tensor([[ 102,  102]], dtype=torch.int32, device='cuda:0'), 20, torch.Size([1, 64, 20, 20]))\n",
      "(tensor([[ 51,  51]], dtype=torch.int32, device='cuda:0'), 11, torch.Size([1, 64, 11, 11]))\n",
      "(tensor([[ 50,  50]], dtype=torch.int32, device='cuda:0'), 13, torch.Size([1, 128, 13, 13]))\n",
      "(tensor([[ 49,  49]], dtype=torch.int32, device='cuda:0'), 15, torch.Size([1, 128, 15, 15]))\n",
      "(tensor([[ 24,  24]], dtype=torch.int32, device='cuda:0'), 8, torch.Size([1, 128, 8, 8]))\n",
      "(tensor([[ 23,  23]], dtype=torch.int32, device='cuda:0'), 10, torch.Size([1, 256, 10, 10]))\n",
      "(tensor([[ 22,  22]], dtype=torch.int32, device='cuda:0'), 12, torch.Size([1, 256, 12, 12]))\n",
      "(tensor([[ 22,  22]], dtype=torch.int32, device='cuda:0'), 12, torch.Size([1, 256, 12, 12]))\n",
      "(tensor([[ 11,  11]], dtype=torch.int32, device='cuda:0'), 6, torch.Size([1, 256, 6, 6]))\n",
      "(tensor([[ 10,  10]], dtype=torch.int32, device='cuda:0'), 8, torch.Size([1, 512, 8, 8]))\n",
      "(tensor([[ 10,  10]], dtype=torch.int32, device='cuda:0'), 8, torch.Size([1, 512, 8, 8]))\n",
      "(tensor([[ 10,  10]], dtype=torch.int32, device='cuda:0'), 8, torch.Size([1, 512, 8, 8]))\n",
      "(tensor([[ 5,  5]], dtype=torch.int32, device='cuda:0'), 4, torch.Size([1, 512, 4, 4]))\n",
      "(tensor([[ 5,  5]], dtype=torch.int32, device='cuda:0'), 4, torch.Size([1, 512, 4, 4]))\n",
      "(tensor([[ 5,  5]], dtype=torch.int32, device='cuda:0'), 4, torch.Size([1, 512, 4, 4]))\n",
      "(tensor([[ 5,  5]], dtype=torch.int32, device='cuda:0'), 4, torch.Size([1, 512, 4, 4]))\n",
      "(tensor([[ 3,  3]], dtype=torch.int32, device='cuda:0'), 2, torch.Size([1, 512, 2, 2]))\n"
     ]
    }
   ],
   "source": [
    "batch_size = 1\n",
    "patch_size = 16\n",
    "input_size = 224\n",
    "\n",
    "p = (input_size - patch_size)//2\n",
    "patch_locations = [(p, p)]*batch_size\n",
    "\n",
    "loader = transforms.Compose([transforms.Resize([224, 224]), transforms.ToTensor()])\n",
    "images = Image.open('./dog_resized.jpg')\n",
    "images = loader(images)\n",
    "\n",
    "images = images.unsqueeze(0)\n",
    "images_batch = images.repeat(batch_size, 1, 1, 1)\n",
    "\n",
    "image_patch = torch.cuda.FloatTensor(3, patch_size, patch_size).fill_(0)\n",
    "\n",
    "for i,(x,y) in enumerate(patch_locations):\n",
    "    images_batch[i, :, x:x+patch_size, y:y+patch_size] = image_patch\n",
    "\n",
    "y = VGG16().forward(images_batch.cuda())\n",
    "\n",
    "image_patches = image_patch.unsqueeze(0).repeat(batch_size, 1, 1, 1)\n",
    "patch_locations = torch.from_numpy(np.array(patch_locations, dtype=np.int32))\n",
    "\n",
    "inc_model = VGG16(beta=0.2)\n",
    "\n",
    "inc_model.eval()\n",
    "inc_model.forward_materialized(images)\n",
    "x = inc_model.forward_gpu(image_patches, patch_locations, patch_size, patch_size)"
   ]
  },
  {
   "cell_type": "code",
   "execution_count": 4,
   "metadata": {},
   "outputs": [
    {
     "name": "stdout",
     "output_type": "stream",
     "text": [
      "7.3735347\n"
     ]
    }
   ],
   "source": [
    "s = 4\n",
    "p = 5\n",
    "#temp = x - y[:,:,p:p+s,p:p+s]\n",
    "\n",
    "temp = y-x\n",
    "\n",
    "temp = temp.cpu().data.numpy()\n",
    "print(np.max(np.abs(temp)))"
   ]
  },
  {
   "cell_type": "code",
   "execution_count": 5,
   "metadata": {},
   "outputs": [
    {
     "name": "stdout",
     "output_type": "stream",
     "text": [
      "torch.Size([1, 512, 7, 7])\n"
     ]
    },
    {
     "data": {
      "text/plain": [
       "57"
      ]
     },
     "execution_count": 5,
     "metadata": {},
     "output_type": "execute_result"
    }
   ],
   "source": [
    "print(x.shape)\n",
    "114 > round(224*0.5) and 114 >= 3\n",
    "remove_y = max(2, ((114 - round(224 * 0.5))//2)*2)\n",
    "remove_y\n",
    "min(int(math.ceil((114-remove_y+2-1)*1.0/2)), 112)"
   ]
  },
  {
   "cell_type": "code",
   "execution_count": 22,
   "metadata": {},
   "outputs": [
    {
     "data": {
      "text/plain": [
       "<matplotlib.colorbar.Colorbar at 0x7f21f8637d90>"
      ]
     },
     "execution_count": 22,
     "metadata": {},
     "output_type": "execute_result"
    },
    {
     "data": {
      "image/png": "[encoded data removed]",
      "text/plain": [
       "<Figure size 432x288 with 2 Axes>"
      ]
     },
     "metadata": {},
     "output_type": "display_data"
    }
   ],
   "source": [
    "plt.imshow(temp[0,15])\n",
    "plt.colorbar()"
   ]
  },
  {
   "cell_type": "code",
   "execution_count": 7,
   "metadata": {},
   "outputs": [
    {
     "data": {
      "text/plain": [
       "array([[ 0.0000000e+00,  0.0000000e+00,  2.0147681e-02,  1.8095613e-02,\n",
       "         4.7165811e-02,  5.6624413e-06,  1.1920929e-07],\n",
       "       [ 0.0000000e+00, -3.0672073e-02,  3.0280828e-02, -3.9072037e-03,\n",
       "         7.3199034e-02,  7.7190638e-02,  0.0000000e+00],\n",
       "       [ 0.0000000e+00,  0.0000000e+00,  0.0000000e+00,  0.0000000e+00,\n",
       "         0.0000000e+00,  0.0000000e+00,  0.0000000e+00],\n",
       "       [ 0.0000000e+00,  0.0000000e+00,  0.0000000e+00,  0.0000000e+00,\n",
       "         2.1409158e-01,  0.0000000e+00,  0.0000000e+00],\n",
       "       [ 0.0000000e+00,  0.0000000e+00,  0.0000000e+00,  0.0000000e+00,\n",
       "         0.0000000e+00,  1.4442629e-01, -1.0073185e-05],\n",
       "       [ 0.0000000e+00,  0.0000000e+00,  0.0000000e+00,  0.0000000e+00,\n",
       "         0.0000000e+00,  7.7398121e-03, -6.7353249e-06],\n",
       "       [ 0.0000000e+00,  0.0000000e+00,  0.0000000e+00,  0.0000000e+00,\n",
       "         0.0000000e+00,  0.0000000e+00,  0.0000000e+00]], dtype=float32)"
      ]
     },
     "execution_count": 7,
     "metadata": {},
     "output_type": "execute_result"
    }
   ],
   "source": [
    "temp[0,0,:,:]"
   ]
  },
  {
   "cell_type": "code",
   "execution_count": 6,
   "metadata": {},
   "outputs": [
    {
     "data": {
      "text/plain": [
       "[(1, 2), (1, 2)]"
      ]
     },
     "execution_count": 6,
     "metadata": {},
     "output_type": "execute_result"
    }
   ],
   "source": [
    "temp = zip([1, 1],[2, 2])\n",
    "import numpy as np\n",
    "temp"
   ]
  },
  {
   "cell_type": "code",
   "execution_count": 1,
   "metadata": {},
   "outputs": [
    {
     "ename": "NameError",
     "evalue": "name 'np' is not defined",
     "output_type": "error",
     "traceback": [
      "\u001b[0;31m\u001b[0m",
      "\u001b[0;31mNameError\u001b[0mTraceback (most recent call last)",
      "\u001b[0;32m<ipython-input-1-1b7ad536caee>\u001b[0m in \u001b[0;36m<module>\u001b[0;34m()\u001b[0m\n\u001b[0;32m----> 1\u001b[0;31m \u001b[0mnp\u001b[0m\u001b[0;34m.\u001b[0m\u001b[0marray\u001b[0m\u001b[0;34m(\u001b[0m\u001b[0mtemp\u001b[0m\u001b[0;34m)\u001b[0m\u001b[0;34m.\u001b[0m\u001b[0mtolist\u001b[0m\u001b[0;34m(\u001b[0m\u001b[0;34m)\u001b[0m\u001b[0;34m\u001b[0m\u001b[0m\n\u001b[0m",
      "\u001b[0;31mNameError\u001b[0m: name 'np' is not defined"
     ]
    }
   ],
   "source": [
    "np.array(temp).tolist()"
   ]
  },
  {
   "cell_type": "code",
   "execution_count": 1,
   "metadata": {},
   "outputs": [
    {
     "name": "stderr",
     "output_type": "stream",
     "text": [
      "/usr/local/lib/python2.7/dist-packages/h5py/__init__.py:36: FutureWarning: Conversion of the second argument of issubdtype from `float` to `np.floating` is deprecated. In future, it will be treated as `np.float64 == np.dtype(float).type`.\n",
      "  from ._conv import register_converters as _register_converters\n"
     ]
    }
   ],
   "source": [
    "import numpy as np\n",
    "import torch.nn as nn\n",
    "from PIL import Image\n",
    "import random as rand\n",
    "import os\n",
    "import math\n",
    "import torch\n",
    "import torch.nn.functional as F\n",
    "from torch.autograd import Variable\n",
    "from torchvision.transforms import transforms\n",
    "from resnet18 import ResNet18\n",
    "from vgg16 import VGG16\n",
    "from inception3 import Inception3\n",
    "\n",
    "import matplotlib.pyplot as plt\n",
    "\n",
    "%matplotlib inline\n",
    "\n",
    "from commons import inc_convolution, inc_max_pool, inc_add, batch_normalization, full_projection\n",
    "from commons import load_dict_from_hdf5\n",
    "from imagenet_classes import class_names"
   ]
  },
  {
   "cell_type": "code",
   "execution_count": 2,
   "metadata": {},
   "outputs": [
    {
     "name": "stdout",
     "output_type": "stream",
     "text": [
      "(tensor([[ 70,  70]], dtype=torch.int32, device='cuda:0'), 9, torch.Size([1, 32, 9, 9]))\n",
      "(tensor([[ 68,  68]], dtype=torch.int32, device='cuda:0'), 11, torch.Size([1, 32, 11, 11]))\n",
      "(tensor([[ 67,  67]], dtype=torch.int32, device='cuda:0'), 13, torch.Size([1, 64, 13, 13]))\n",
      "(tensor([[ 33,  33]], dtype=torch.int32, device='cuda:0'), 8, torch.Size([1, 64, 8, 8]))\n",
      "(tensor([[ 33,  33]], dtype=torch.int32, device='cuda:0'), 8, torch.Size([1, 80, 8, 8]))\n",
      "(tensor([[ 31,  31]], dtype=torch.int32, device='cuda:0'), 10, torch.Size([1, 192, 10, 10]))\n",
      "(tensor([[ 15,  15]], dtype=torch.int32, device='cuda:0'), 6, torch.Size([1, 192, 6, 6]))\n",
      "(tensor([[ 13,  13]], dtype=torch.int32, device='cuda:0'), 10, torch.Size([1, 256, 10, 10]))\n",
      "(tensor([[ 11,  11]], dtype=torch.int32, device='cuda:0'), 14, torch.Size([1, 288, 14, 14]))\n",
      "(tensor([[ 9,  9]], dtype=torch.int32, device='cuda:0'), 18, torch.Size([1, 288, 18, 18]))\n",
      "(tensor([[ 3,  3]], dtype=torch.int32, device='cuda:0'), 11, torch.Size([1, 768, 11, 11]))\n",
      "('->', tensor([[ 3,  3]], dtype=torch.int32, device='cuda:0'), 11, 11, torch.Size([1, 128, 11, 11]))\n",
      "('->', tensor([[ 2,  3]], dtype=torch.int32, device='cuda:0'), 14, 11, torch.Size([1, 128, 14, 11]))\n",
      "('->', tensor([[ 2,  2]], dtype=torch.int32, device='cuda:0'), 14, 14, torch.Size([1, 128, 14, 14]))\n",
      "('->', tensor([[ 1,  2]], dtype=torch.int32, device='cuda:0'), 14, 14, torch.Size([1, 128, 14, 14]))\n",
      "('->', tensor([[ 1,  1]], dtype=torch.int32, device='cuda:0'), 14, 14, torch.Size([1, 192, 14, 14]))\n",
      "(tensor([[ 1,  1]], dtype=torch.int32, device='cuda:0'), 14, torch.Size([1, 768, 14, 14]))\n",
      "('->', tensor([[ 1,  1]], dtype=torch.int32, device='cuda:0'), 14, 14, torch.Size([1, 160, 14, 14]))\n",
      "('->', tensor([[ 0,  1]], dtype=torch.int32, device='cuda:0'), 14, 14, torch.Size([1, 160, 14, 14]))\n",
      "('->', tensor([[ 0,  0]], dtype=torch.int32, device='cuda:0'), 14, 14, torch.Size([1, 160, 14, 14]))\n",
      "('->', tensor([[ 0,  0]], dtype=torch.int32, device='cuda:0'), 14, 14, torch.Size([1, 160, 14, 14]))\n",
      "('->', tensor([[ 0,  0]], dtype=torch.int32, device='cuda:0'), 14, 14, torch.Size([1, 192, 14, 14]))\n",
      "(tensor([[ 0,  0]], dtype=torch.int32, device='cuda:0'), 14, torch.Size([1, 768, 14, 14]))\n",
      "('->', tensor([[ 0,  0]], dtype=torch.int32, device='cuda:0'), 14, 14, torch.Size([1, 160, 14, 14]))\n",
      "('->', tensor([[ 0,  0]], dtype=torch.int32, device='cuda:0'), 14, 14, torch.Size([1, 160, 14, 14]))\n",
      "('->', tensor([[ 0,  0]], dtype=torch.int32, device='cuda:0'), 14, 14, torch.Size([1, 160, 14, 14]))\n",
      "('->', tensor([[ 0,  0]], dtype=torch.int32, device='cuda:0'), 14, 14, torch.Size([1, 160, 14, 14]))\n",
      "('->', tensor([[ 0,  0]], dtype=torch.int32, device='cuda:0'), 14, 14, torch.Size([1, 192, 14, 14]))\n",
      "(tensor([[ 0,  0]], dtype=torch.int32, device='cuda:0'), 14, torch.Size([1, 768, 14, 14]))\n",
      "('->', tensor([[ 0,  0]], dtype=torch.int32, device='cuda:0'), 14, 14, torch.Size([1, 192, 14, 14]))\n",
      "('->', tensor([[ 0,  0]], dtype=torch.int32, device='cuda:0'), 14, 14, torch.Size([1, 192, 14, 14]))\n",
      "('->', tensor([[ 0,  0]], dtype=torch.int32, device='cuda:0'), 14, 14, torch.Size([1, 192, 14, 14]))\n",
      "('->', tensor([[ 0,  0]], dtype=torch.int32, device='cuda:0'), 14, 14, torch.Size([1, 192, 14, 14]))\n",
      "('->', tensor([[ 0,  0]], dtype=torch.int32, device='cuda:0'), 14, 14, torch.Size([1, 192, 14, 14]))\n",
      "(tensor([[ 0,  0]], dtype=torch.int32, device='cuda:0'), 14, torch.Size([1, 768, 14, 14]))\n",
      "(tensor([[ 0,  0]], dtype=torch.int32, device='cuda:0'), 6, torch.Size([1, 1280, 6, 6]))\n",
      "(tensor([[ 0,  0]], dtype=torch.int32, device='cuda:0'), 6, torch.Size([1, 2048, 6, 6]))\n",
      "(tensor([[ 0,  0]], dtype=torch.int32, device='cuda:0'), 6, torch.Size([1, 2048, 6, 6]))\n",
      "0.008398235\n"
     ]
    }
   ],
   "source": [
    "batch_size = 1\n",
    "patch_size = 16\n",
    "input_size = 299\n",
    "\n",
    "patch_locations = torch.cuda.IntTensor(1, 2)\n",
    "patch_locations[0, 0] = (input_size-patch_size)//2\n",
    "patch_locations[0, 1] = (input_size-patch_size)//2\n",
    "\n",
    "loader = transforms.Compose([transforms.Resize([input_size, input_size]), transforms.ToTensor()])\n",
    "image = Image.open('./dog_resized.jpg')\n",
    "image = loader(image)\n",
    "image = image.unsqueeze(0).cuda()\n",
    "\n",
    "image_patch = torch.zeros([1, 3, patch_size, patch_size], dtype=torch.float32)\n",
    "#image[:, :, (input_size-patch_size)//2:(input_size-patch_size)//2+patch_size, (input_size-patch_size)//2:(input_size-patch_size)//2+patch_size].clone()\n",
    "\n",
    "model1 = Inception3().eval().cuda()\n",
    "model2 = Inception3().eval().cuda()\n",
    "\n",
    "beta = 0.8\n",
    "\n",
    "model1.forward_materialized(image)\n",
    "x = model1.forward_gpu(image_patch, patch_locations, patch_size, patch_size, beta=beta)\n",
    "\n",
    "\n",
    "mod_image = image.clone()\n",
    "mod_image[:, :, (input_size-patch_size)//2:(input_size-patch_size)//2+patch_size,\n",
    "          (input_size-patch_size)//2:(input_size-patch_size)//2+patch_size] = image_patch\n",
    "y = model2(mod_image)\n",
    "\n",
    "\n",
    "temp = x - y\n",
    "print(np.max(np.abs(temp.cpu().data.numpy())))\n",
    "\n",
    "#x[:, :, (224-patch_size)//2:(224-patch_size)//2+patch_size, (224-patch_size)//2:(224-patch_size)//2+patch_size] = image_patch\n",
    "#print(class_names[np.argmax(y.data.cpu().numpy()[0, :])])"
   ]
  },
  {
   "cell_type": "code",
   "execution_count": 3,
   "metadata": {},
   "outputs": [
    {
     "name": "stdout",
     "output_type": "stream",
     "text": [
      "0.013320982\n"
     ]
    }
   ],
   "source": [
    "model1 = Inception3().eval().cuda()\n",
    "model1.forward_materialized(image)\n",
    "patch_locations = torch.cuda.IntTensor(1, 2)\n",
    "patch_locations[0, 0] = (input_size-patch_size)//2\n",
    "patch_locations[0, 1] = (input_size-patch_size)//2\n",
    "x = model1.forward_gpu(image_patch, patch_locations, patch_size, patch_size, beta=0.7)\n",
    "\n",
    "temp = x - y\n",
    "print(np.max(np.abs(temp.cpu().data.numpy())))"
   ]
  },
  {
   "cell_type": "code",
   "execution_count": 6,
   "metadata": {},
   "outputs": [
    {
     "data": {
      "text/plain": [
       "<matplotlib.colorbar.Colorbar at 0x7fe33c3b3d90>"
      ]
     },
     "execution_count": 6,
     "metadata": {},
     "output_type": "execute_result"
    },
    {
     "data": {
      "image/png": "[encoded data removed]",
      "text/plain": [
       "<Figure size 432x288 with 2 Axes>"
      ]
     },
     "metadata": {},
     "output_type": "display_data"
    }
   ],
   "source": [
    "plt.imshow(np.sum(temp[0,:,:,:].cpu().data.numpy(), axis=0))\n",
    "plt.colorbar()"
   ]
  },
  {
   "cell_type": "code",
   "execution_count": 1,
   "metadata": {},
   "outputs": [
    {
     "ename": "NameError",
     "evalue": "name 'plt' is not defined",
     "output_type": "error",
     "traceback": [
      "\u001b[0;31m\u001b[0m",
      "\u001b[0;31mNameError\u001b[0mTraceback (most recent call last)",
      "\u001b[0;32m<ipython-input-1-00171af70527>\u001b[0m in \u001b[0;36m<module>\u001b[0;34m()\u001b[0m\n\u001b[0;32m----> 1\u001b[0;31m \u001b[0mplt\u001b[0m\u001b[0;34m.\u001b[0m\u001b[0mimshow\u001b[0m\u001b[0;34m(\u001b[0m\u001b[0mtemp\u001b[0m\u001b[0;34m[\u001b[0m\u001b[0;36m0\u001b[0m\u001b[0;34m,\u001b[0m\u001b[0;36m0\u001b[0m\u001b[0;34m,\u001b[0m\u001b[0;34m:\u001b[0m\u001b[0;34m,\u001b[0m\u001b[0;34m:\u001b[0m\u001b[0;34m]\u001b[0m\u001b[0;34m.\u001b[0m\u001b[0mcpu\u001b[0m\u001b[0;34m(\u001b[0m\u001b[0;34m)\u001b[0m\u001b[0;34m.\u001b[0m\u001b[0mdata\u001b[0m\u001b[0;34m.\u001b[0m\u001b[0mnumpy\u001b[0m\u001b[0;34m(\u001b[0m\u001b[0;34m)\u001b[0m\u001b[0;34m[\u001b[0m\u001b[0;36m39\u001b[0m\u001b[0;34m:\u001b[0m\u001b[0;36m39\u001b[0m\u001b[0;34m+\u001b[0m\u001b[0;36m35\u001b[0m\u001b[0;34m,\u001b[0m\u001b[0;36m39\u001b[0m\u001b[0;34m:\u001b[0m\u001b[0;36m39\u001b[0m\u001b[0;34m+\u001b[0m\u001b[0;36m35\u001b[0m\u001b[0;34m]\u001b[0m\u001b[0;34m)\u001b[0m\u001b[0;34m\u001b[0m\u001b[0m\n\u001b[0m",
      "\u001b[0;31mNameError\u001b[0m: name 'plt' is not defined"
     ]
    }
   ],
   "source": [
    "plt.imshow(temp[0,0,:,:].cpu().data.numpy()[39:39+35,39:39+35])"
   ]
  },
  {
   "cell_type": "code",
   "execution_count": 6,
   "metadata": {},
   "outputs": [
    {
     "data": {
      "text/plain": [
       "array([[-7.7071011e-02, -4.8238552e-01, -6.1929846e-01, ...,\n",
       "         2.1777752e-01,  1.5805438e-02,  9.3623474e-03],\n",
       "       [-3.4303617e-01, -2.3509622e-02,  5.5429339e-01, ...,\n",
       "        -1.2133603e+00, -2.6132292e-01, -2.0076916e-02],\n",
       "       [ 7.8838754e-01,  2.0174165e+00,  2.0246296e+00, ...,\n",
       "         1.1568482e+00,  3.9879766e-01, -1.5221536e-04],\n",
       "       ...,\n",
       "       [-5.2040040e-01, -6.3380140e-01,  2.7748156e-01, ...,\n",
       "        -3.5855979e-01,  4.1836008e-02,  8.2335323e-03],\n",
       "       [ 2.3656686e-01,  1.5254842e+00,  1.6970832e+00, ...,\n",
       "         9.7937816e-01,  2.5400716e-01, -3.5314858e-03],\n",
       "       [ 1.7921031e-03,  2.1401720e-01,  1.8472385e-01, ...,\n",
       "         9.8898225e-02, -2.2731960e-02, -7.9751909e-03]], dtype=float32)"
      ]
     },
     "execution_count": 6,
     "metadata": {},
     "output_type": "execute_result"
    }
   ],
   "source": [
    "temp[0,0,:,:].cpu().data.numpy()[39:39+35,39:39+35]"
   ]
  },
  {
   "cell_type": "code",
   "execution_count": null,
   "metadata": {},
   "outputs": [],
   "source": []
  },
  {
   "cell_type": "code",
   "execution_count": null,
   "metadata": {},
   "outputs": [],
   "source": []
  },
  {
   "cell_type": "code",
   "execution_count": null,
   "metadata": {},
   "outputs": [],
   "source": []
  }
 ],
 "metadata": {
  "kernelspec": {
   "display_name": "Python 2",
   "language": "python",
   "name": "python2"
  },
  "language_info": {
   "codemirror_mode": {
    "name": "ipython",
    "version": 2
   },
   "file_extension": ".py",
   "mimetype": "text/x-python",
   "name": "python",
   "nbconvert_exporter": "python",
   "pygments_lexer": "ipython2",
   "version": "2.7.12"
  }
 },
 "nbformat": 4,
 "nbformat_minor": 2
}
