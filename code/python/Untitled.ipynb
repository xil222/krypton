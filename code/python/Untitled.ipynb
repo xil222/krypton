{
 "cells": [
  {
   "cell_type": "code",
   "execution_count": 2,
   "metadata": {},
   "outputs": [
    {
     "name": "stderr",
     "output_type": "stream",
     "text": [
      "/usr/local/lib/python2.7/dist-packages/h5py/__init__.py:36: FutureWarning: Conversion of the second argument of issubdtype from `float` to `np.floating` is deprecated. In future, it will be treated as `np.float64 == np.dtype(float).type`.\n",
      "  from ._conv import register_converters as _register_converters\n"
     ]
    }
   ],
   "source": [
    "import random\n",
    "\n",
    "import numpy as np\n",
    "import torch\n",
    "import math\n",
    "import torch.nn as nn\n",
    "from PIL import Image\n",
    "from torch.autograd import Variable\n",
    "from torchvision.transforms import transforms\n",
    "\n",
    "from commons import inc_convolution, inc_max_pool\n",
    "from imagenet_classes import class_names\n",
    "from vgg16 import VGG16\n",
    "\n",
    "import matplotlib.pyplot as plt\n",
    "\n",
    "%matplotlib inline"
   ]
  },
  {
   "cell_type": "code",
   "execution_count": 3,
   "metadata": {},
   "outputs": [
    {
     "name": "stdout",
     "output_type": "stream",
     "text": [
      "(tensor([[ 103,  103]], dtype=torch.int32, device='cuda:0'), 18, torch.Size([1, 64, 18, 18]))\n",
      "(tensor([[ 102,  102]], dtype=torch.int32, device='cuda:0'), 20, torch.Size([1, 64, 20, 20]))\n",
      "(tensor([[ 51,  51]], dtype=torch.int32, device='cuda:0'), 11, torch.Size([1, 64, 11, 11]))\n",
      "(tensor([[ 50,  50]], dtype=torch.int32, device='cuda:0'), 13, torch.Size([1, 128, 13, 13]))\n",
      "(tensor([[ 49,  49]], dtype=torch.int32, device='cuda:0'), 15, torch.Size([1, 128, 15, 15]))\n",
      "(tensor([[ 24,  24]], dtype=torch.int32, device='cuda:0'), 8, torch.Size([1, 128, 8, 8]))\n",
      "(tensor([[ 23,  23]], dtype=torch.int32, device='cuda:0'), 10, torch.Size([1, 256, 10, 10]))\n",
      "(tensor([[ 22,  22]], dtype=torch.int32, device='cuda:0'), 12, torch.Size([1, 256, 12, 12]))\n",
      "(tensor([[ 22,  22]], dtype=torch.int32, device='cuda:0'), 12, torch.Size([1, 256, 12, 12]))\n",
      "(tensor([[ 11,  11]], dtype=torch.int32, device='cuda:0'), 6, torch.Size([1, 256, 6, 6]))\n",
      "(tensor([[ 10,  10]], dtype=torch.int32, device='cuda:0'), 8, torch.Size([1, 512, 8, 8]))\n",
      "(tensor([[ 10,  10]], dtype=torch.int32, device='cuda:0'), 8, torch.Size([1, 512, 8, 8]))\n",
      "(tensor([[ 10,  10]], dtype=torch.int32, device='cuda:0'), 8, torch.Size([1, 512, 8, 8]))\n",
      "(tensor([[ 5,  5]], dtype=torch.int32, device='cuda:0'), 4, torch.Size([1, 512, 4, 4]))\n",
      "(tensor([[ 5,  5]], dtype=torch.int32, device='cuda:0'), 4, torch.Size([1, 512, 4, 4]))\n",
      "(tensor([[ 5,  5]], dtype=torch.int32, device='cuda:0'), 4, torch.Size([1, 512, 4, 4]))\n",
      "(tensor([[ 5,  5]], dtype=torch.int32, device='cuda:0'), 4, torch.Size([1, 512, 4, 4]))\n",
      "(tensor([[ 3,  3]], dtype=torch.int32, device='cuda:0'), 2, torch.Size([1, 512, 2, 2]))\n"
     ]
    }
   ],
   "source": [
    "batch_size = 1\n",
    "patch_size = 16\n",
    "input_size = 224\n",
    "\n",
    "p = (input_size - patch_size)//2\n",
    "patch_locations = [(p, p)]*batch_size\n",
    "\n",
    "loader = transforms.Compose([transforms.Resize([224, 224]), transforms.ToTensor()])\n",
    "images = Image.open('./dog_resized.jpg')\n",
    "images = loader(images)\n",
    "\n",
    "images = images.unsqueeze(0)\n",
    "images_batch = images.repeat(batch_size, 1, 1, 1)\n",
    "\n",
    "image_patch = torch.cuda.FloatTensor(3, patch_size, patch_size).fill_(0)\n",
    "\n",
    "for i,(x,y) in enumerate(patch_locations):\n",
    "    images_batch[i, :, x:x+patch_size, y:y+patch_size] = image_patch\n",
    "\n",
    "y = VGG16().forward(images_batch.cuda())\n",
    "\n",
    "image_patches = image_patch.unsqueeze(0).repeat(batch_size, 1, 1, 1)\n",
    "patch_locations = torch.from_numpy(np.array(patch_locations, dtype=np.int32))\n",
    "\n",
    "inc_model = VGG16(beta=0.2)\n",
    "\n",
    "inc_model.eval()\n",
    "inc_model.forward_materialized(images)\n",
    "x = inc_model.forward_gpu(image_patches, patch_locations, patch_size, patch_size)"
   ]
  },
  {
   "cell_type": "code",
   "execution_count": 4,
   "metadata": {},
   "outputs": [
    {
     "name": "stdout",
     "output_type": "stream",
     "text": [
      "7.3735347\n"
     ]
    }
   ],
   "source": [
    "s = 4\n",
    "p = 5\n",
    "#temp = x - y[:,:,p:p+s,p:p+s]\n",
    "\n",
    "temp = y-x\n",
    "\n",
    "temp = temp.cpu().data.numpy()\n",
    "print(np.max(np.abs(temp)))"
   ]
  },
  {
   "cell_type": "code",
   "execution_count": 5,
   "metadata": {},
   "outputs": [
    {
     "name": "stdout",
     "output_type": "stream",
     "text": [
      "torch.Size([1, 512, 7, 7])\n"
     ]
    },
    {
     "data": {
      "text/plain": [
       "57"
      ]
     },
     "execution_count": 5,
     "metadata": {},
     "output_type": "execute_result"
    }
   ],
   "source": [
    "print(x.shape)\n",
    "114 > round(224*0.5) and 114 >= 3\n",
    "remove_y = max(2, ((114 - round(224 * 0.5))//2)*2)\n",
    "remove_y\n",
    "min(int(math.ceil((114-remove_y+2-1)*1.0/2)), 112)"
   ]
  },
  {
   "cell_type": "code",
   "execution_count": 22,
   "metadata": {},
   "outputs": [
    {
     "data": {
      "text/plain": [
       "<matplotlib.colorbar.Colorbar at 0x7f21f8637d90>"
      ]
     },
     "execution_count": 22,
     "metadata": {},
     "output_type": "execute_result"
    },
    {
     "data": {
      "image/png": "[encoded data removed]",
      "text/plain": [
       "<Figure size 432x288 with 2 Axes>"
      ]
     },
     "metadata": {},
     "output_type": "display_data"
    }
   ],
   "source": [
    "plt.imshow(temp[0,15])\n",
    "plt.colorbar()"
   ]
  },
  {
   "cell_type": "code",
   "execution_count": 7,
   "metadata": {},
   "outputs": [
    {
     "data": {
      "text/plain": [
       "array([[ 0.0000000e+00,  0.0000000e+00,  2.0147681e-02,  1.8095613e-02,\n",
       "         4.7165811e-02,  5.6624413e-06,  1.1920929e-07],\n",
       "       [ 0.0000000e+00, -3.0672073e-02,  3.0280828e-02, -3.9072037e-03,\n",
       "         7.3199034e-02,  7.7190638e-02,  0.0000000e+00],\n",
       "       [ 0.0000000e+00,  0.0000000e+00,  0.0000000e+00,  0.0000000e+00,\n",
       "         0.0000000e+00,  0.0000000e+00,  0.0000000e+00],\n",
       "       [ 0.0000000e+00,  0.0000000e+00,  0.0000000e+00,  0.0000000e+00,\n",
       "         2.1409158e-01,  0.0000000e+00,  0.0000000e+00],\n",
       "       [ 0.0000000e+00,  0.0000000e+00,  0.0000000e+00,  0.0000000e+00,\n",
       "         0.0000000e+00,  1.4442629e-01, -1.0073185e-05],\n",
       "       [ 0.0000000e+00,  0.0000000e+00,  0.0000000e+00,  0.0000000e+00,\n",
       "         0.0000000e+00,  7.7398121e-03, -6.7353249e-06],\n",
       "       [ 0.0000000e+00,  0.0000000e+00,  0.0000000e+00,  0.0000000e+00,\n",
       "         0.0000000e+00,  0.0000000e+00,  0.0000000e+00]], dtype=float32)"
      ]
     },
     "execution_count": 7,
     "metadata": {},
     "output_type": "execute_result"
    }
   ],
   "source": [
    "temp[0,0,:,:]"
   ]
  },
  {
   "cell_type": "code",
   "execution_count": null,
   "metadata": {},
   "outputs": [],
   "source": []
  }
 ],
 "metadata": {
  "kernelspec": {
   "display_name": "Python 2",
   "language": "python",
   "name": "python2"
  },
  "language_info": {
   "codemirror_mode": {
    "name": "ipython",
    "version": 2
   },
   "file_extension": ".py",
   "mimetype": "text/x-python",
   "name": "python",
   "nbconvert_exporter": "python",
   "pygments_lexer": "ipython2",
   "version": "2.7.12"
  }
 },
 "nbformat": 4,
 "nbformat_minor": 2
}
