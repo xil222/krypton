{
 "cells": [
  {
   "cell_type": "code",
   "execution_count": 1,
   "metadata": {},
   "outputs": [
    {
     "name": "stderr",
     "output_type": "stream",
     "text": [
      "c:\\users\\cywkh\\appdata\\local\\programs\\python\\python36\\lib\\site-packages\\ipykernel_launcher.py:20: wxPyDeprecationWarning: Call to deprecated item EmptyImage. Use :class:`Image` instead.\n",
      "c:\\users\\cywkh\\appdata\\local\\programs\\python\\python36\\lib\\site-packages\\ipykernel_launcher.py:22: wxPyDeprecationWarning: Call to deprecated item BitmapFromImage. Use :class:`wx.Bitmap` instead\n"
     ]
    },
    {
     "ename": "wxAssertionError",
     "evalue": "C++ assertion \"IsOk()\" failed at ..\\..\\src\\common\\image.cpp(1739) in wxImage::GetWidth(): invalid image",
     "output_type": "error",
     "traceback": [
      "\u001b[1;31m---------------------------------------------------------------------------\u001b[0m",
      "\u001b[1;31mwxAssertionError\u001b[0m                          Traceback (most recent call last)",
      "\u001b[1;32m<ipython-input-1-282ca0b4cde6>\u001b[0m in \u001b[0;36monBrowse\u001b[1;34m(self, event)\u001b[0m\n\u001b[0;32m     54\u001b[0m             \u001b[0mself\u001b[0m\u001b[1;33m.\u001b[0m\u001b[0mphotoTxt\u001b[0m\u001b[1;33m.\u001b[0m\u001b[0mSetValue\u001b[0m\u001b[1;33m(\u001b[0m\u001b[0mdialog\u001b[0m\u001b[1;33m.\u001b[0m\u001b[0mGetPath\u001b[0m\u001b[1;33m(\u001b[0m\u001b[1;33m)\u001b[0m\u001b[1;33m)\u001b[0m\u001b[1;33m\u001b[0m\u001b[0m\n\u001b[0;32m     55\u001b[0m         \u001b[0mdialog\u001b[0m\u001b[1;33m.\u001b[0m\u001b[0mDestroy\u001b[0m\u001b[1;33m(\u001b[0m\u001b[1;33m)\u001b[0m\u001b[1;33m\u001b[0m\u001b[0m\n\u001b[1;32m---> 56\u001b[1;33m         \u001b[0mself\u001b[0m\u001b[1;33m.\u001b[0m\u001b[0monView\u001b[0m\u001b[1;33m(\u001b[0m\u001b[1;33m)\u001b[0m\u001b[1;33m\u001b[0m\u001b[0m\n\u001b[0m\u001b[0;32m     57\u001b[0m \u001b[1;33m\u001b[0m\u001b[0m\n\u001b[0;32m     58\u001b[0m     \u001b[1;32mdef\u001b[0m \u001b[0monView\u001b[0m\u001b[1;33m(\u001b[0m\u001b[0mself\u001b[0m\u001b[1;33m)\u001b[0m\u001b[1;33m:\u001b[0m\u001b[1;33m\u001b[0m\u001b[0m\n",
      "\u001b[1;32m<ipython-input-1-282ca0b4cde6>\u001b[0m in \u001b[0;36monView\u001b[1;34m(self)\u001b[0m\n\u001b[0;32m     60\u001b[0m         \u001b[0mimg\u001b[0m \u001b[1;33m=\u001b[0m \u001b[0mwx\u001b[0m\u001b[1;33m.\u001b[0m\u001b[0mImage\u001b[0m\u001b[1;33m(\u001b[0m\u001b[0mfilepath\u001b[0m\u001b[1;33m,\u001b[0m \u001b[0mwx\u001b[0m\u001b[1;33m.\u001b[0m\u001b[0mBITMAP_TYPE_ANY\u001b[0m\u001b[1;33m)\u001b[0m\u001b[1;33m\u001b[0m\u001b[0m\n\u001b[0;32m     61\u001b[0m         \u001b[1;31m# scale the image, preserving the aspect ratio\u001b[0m\u001b[1;33m\u001b[0m\u001b[1;33m\u001b[0m\u001b[0m\n\u001b[1;32m---> 62\u001b[1;33m         \u001b[0mW\u001b[0m \u001b[1;33m=\u001b[0m \u001b[0mimg\u001b[0m\u001b[1;33m.\u001b[0m\u001b[0mGetWidth\u001b[0m\u001b[1;33m(\u001b[0m\u001b[1;33m)\u001b[0m\u001b[1;33m\u001b[0m\u001b[0m\n\u001b[0m\u001b[0;32m     63\u001b[0m         \u001b[0mH\u001b[0m \u001b[1;33m=\u001b[0m \u001b[0mimg\u001b[0m\u001b[1;33m.\u001b[0m\u001b[0mGetHeight\u001b[0m\u001b[1;33m(\u001b[0m\u001b[1;33m)\u001b[0m\u001b[1;33m\u001b[0m\u001b[0m\n\u001b[0;32m     64\u001b[0m         \u001b[1;32mif\u001b[0m \u001b[0mW\u001b[0m \u001b[1;33m>\u001b[0m \u001b[0mH\u001b[0m\u001b[1;33m:\u001b[0m\u001b[1;33m\u001b[0m\u001b[0m\n",
      "\u001b[1;31mwxAssertionError\u001b[0m: C++ assertion \"IsOk()\" failed at ..\\..\\src\\common\\image.cpp(1739) in wxImage::GetWidth(): invalid image"
     ]
    }
   ],
   "source": [
    "import os\n",
    "import wx\n",
    "    \n",
    "#still needs to add three buttons\n",
    "#for stride size, patch size, color --> bar (0~1)\n",
    "class LoadImage(wx.App):\n",
    "    def __init__(self, redirect=False, filename=None):\n",
    "        wx.App.__init__(self, redirect, filename)\n",
    "        self.frame = wx.Frame(None, title='Krypton')\n",
    " \n",
    "        self.panel = wx.Panel(self.frame)\n",
    " \n",
    "        self.PhotoMaxSize = 224\n",
    " \n",
    "        self.createWidgets()\n",
    "        self.frame.Show()\n",
    " \n",
    "    def createWidgets(self):\n",
    "        instructions = 'Select an image'\n",
    "        img = wx.EmptyImage(224,224)\n",
    "        self.imageCtrl = wx.StaticBitmap(self.panel, wx.ID_ANY, \n",
    "                                         wx.BitmapFromImage(img))\n",
    " \n",
    "        instructLbl = wx.StaticText(self.panel, label=instructions)\n",
    "        self.photoTxt = wx.TextCtrl(self.panel, size=(200,-1))\n",
    "        browseBtn = wx.Button(self.panel, label='Browse')\n",
    "        browseBtn.Bind(wx.EVT_BUTTON, self.onBrowse)\n",
    " \n",
    "        self.mainSizer = wx.BoxSizer(wx.VERTICAL)\n",
    "        self.sizer = wx.BoxSizer(wx.HORIZONTAL)\n",
    " \n",
    "        self.mainSizer.Add(wx.StaticLine(self.panel, wx.ID_ANY),\n",
    "                           0, wx.ALL|wx.EXPAND, 5)\n",
    "        self.mainSizer.Add(instructLbl, 0, wx.ALL, 5)\n",
    "        self.mainSizer.Add(self.imageCtrl, 0, wx.ALL, 5)\n",
    "        self.sizer.Add(self.photoTxt, 0, wx.ALL, 5)\n",
    "        self.sizer.Add(browseBtn, 0, wx.ALL, 5)        \n",
    "        self.mainSizer.Add(self.sizer, 0, wx.ALL, 5)\n",
    " \n",
    "        self.panel.SetSizer(self.mainSizer)\n",
    "        self.mainSizer.Fit(self.frame)\n",
    " \n",
    "        self.panel.Layout()\n",
    " \n",
    "    def onBrowse(self, event):\n",
    "        \"\"\" \n",
    "        Browse for file\n",
    "        \"\"\"\n",
    "        wildcard = \"JPEG files (*.jpg)|*.jpg\"\n",
    "        dialog = wx.FileDialog(None, \"Choose a file\",\n",
    "                               wildcard=wildcard,\n",
    "                               style=wx.FD_OPEN)\n",
    "        if dialog.ShowModal() == wx.ID_OK:\n",
    "            self.photoTxt.SetValue(dialog.GetPath())\n",
    "        dialog.Destroy() \n",
    "        self.onView()\n",
    " \n",
    "    def onView(self):\n",
    "        filepath = self.photoTxt.GetValue()\n",
    "        img = wx.Image(filepath, wx.BITMAP_TYPE_ANY)\n",
    "        # scale the image, preserving the aspect ratio\n",
    "        W = img.GetWidth()\n",
    "        H = img.GetHeight()\n",
    "        if W > H:\n",
    "            NewW = self.PhotoMaxSize\n",
    "            NewH = self.PhotoMaxSize * H / W\n",
    "        else:\n",
    "            NewH = self.PhotoMaxSize\n",
    "            NewW = self.PhotoMaxSize * W / H\n",
    "        img = img.Scale(NewW,NewH)\n",
    " \n",
    "        self.imageCtrl.SetBitmap(wx.BitmapFromImage(img))\n",
    "        self.panel.Refresh()\n",
    " \n",
    "if __name__ == '__main__':\n",
    "    app = LoadImage()\n",
    "    app.MainLoop()"
   ]
  },
  {
   "cell_type": "code",
   "execution_count": null,
   "metadata": {},
   "outputs": [],
   "source": []
  }
 ],
 "metadata": {
  "kernelspec": {
   "display_name": "Python 3",
   "language": "python",
   "name": "python3"
  },
  "language_info": {
   "codemirror_mode": {
    "name": "ipython",
    "version": 3
   },
   "file_extension": ".py",
   "mimetype": "text/x-python",
   "name": "python",
   "nbconvert_exporter": "python",
   "pygments_lexer": "ipython3",
   "version": "3.6.0"
  }
 },
 "nbformat": 4,
 "nbformat_minor": 2
}
