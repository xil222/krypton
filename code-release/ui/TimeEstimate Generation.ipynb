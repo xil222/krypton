{
 "cells": [
  {
   "cell_type": "code",
   "execution_count": 1,
   "metadata": {},
   "outputs": [],
   "source": [
    "import sys\n",
    "import time\n",
    "import json\n",
    "\n",
    "sys.path.append('../core/python')\n",
    "\n",
    "from commons import inc_inference_with_model, show_heatmap\n",
    "from imagenet_classes import class_names\n",
    "from vgg16 import VGG16\n",
    "from resnet18 import ResNet18\n",
    "from inception3 import Inception3"
   ]
  },
  {
   "cell_type": "code",
   "execution_count": 2,
   "metadata": {},
   "outputs": [],
   "source": [
    "image_file_path = \"../images/input/imagenet/dog.jpg\""
   ]
  },
  {
   "cell_type": "code",
   "execution_count": 3,
   "metadata": {},
   "outputs": [
    {
     "name": "stderr",
     "output_type": "stream",
     "text": [
      "/usr/local/lib/python2.7/dist-packages/h5py/_hl/dataset.py:313: H5pyDeprecationWarning: dataset.value has been deprecated. Use dataset[()] instead.\n",
      "  \"Use dataset[()] instead.\", H5pyDeprecationWarning)\n"
     ]
    }
   ],
   "source": [
    "vgg_model = VGG16(beta=1.0, gpu=True, n_labels=1000).eval()\n",
    "resnet_model = ResNet18(beta=1.0, gpu=True, n_labels=1000).eval()\n",
    "\n",
    "#inception size fix issue \n",
    "#inception_model = Inception3(beta=1.0, gpu=True, n_labels=1000).eval()"
   ]
  },
  {
   "cell_type": "code",
   "execution_count": null,
   "metadata": {},
   "outputs": [],
   "source": []
  },
  {
   "cell_type": "code",
   "execution_count": 4,
   "metadata": {},
   "outputs": [],
   "source": [
    "# begin_time = time.time()\n",
    "# _,_,_ = inc_inference_with_model(vgg_model, image_file_path, patch_size=4, stride=4, beta=1.0, x0=0, y0=0, image_size=224, x_size=224,\n",
    "#                       y_size=224, version='v1', gpu=True, c=0.0)\n",
    "# end_time = time.time()\n",
    "# time_elapsed = end_time - begin_time"
   ]
  },
  {
   "cell_type": "code",
   "execution_count": 5,
   "metadata": {},
   "outputs": [],
   "source": [
    "'''\n",
    "    In this auto-configuration, we're targeting on find the intercept & slope for each model based on current GPU\n",
    "    we'll plug in 2 samples to calculate the slope & intercept and save them into json file. \n",
    "    In this way, we can save lots of time in calculating time-estimation.\n",
    "'''\n",
    "\n",
    "def makeEstimation(model, image_file_path):\n",
    "    slope, intercept = auto_configure(model, image_file_path)\n",
    "    return slope, intercept\n",
    "    \n",
    "    \n",
    "def auto_configure(model, image_file_path):\n",
    "\tprint('start configuration')\n",
    "\tbegin_time1 = time.time()\n",
    "\t_, _, _ = inc_inference_with_model(model, image_file_path, patch_size=16, stride=8, beta=1.0, x0=0, y0=0, x_size=224, y_size=224, gpu=True, c=0.0)\n",
    "\tend_time1 = time.time()\n",
    "\tpatch, stride = 16, 8\n",
    "\ty1 = end_time1 - begin_time1\n",
    "\tx1 = (224 - patch) * (224 - patch) * 1.0 / stride / stride\n",
    "\tprint('1 done')\n",
    "\tbegin_time2 = time.time()\n",
    "\t_, _, _ = inc_inference_with_model(model, image_file_path, patch_size=16, stride=2, beta=1.0, x0=0, y0=0, x_size=100, y_size=100, gpu=True, c=0.0)\n",
    "\tend_time2 = time.time()\n",
    "\tpatch, stride = 16, 2\n",
    "\tprint('2 done')\t\n",
    "\ty2 = end_time2 - begin_time2\n",
    "\tx2 = (100 - patch) * (100 - patch) * 1.0 / stride / stride\n",
    "\talpha = (y2 - y1) / (x2 - x1)\n",
    "\tbeta = y1 - alpha * x1\n",
    "\treturn alpha, beta\n",
    " "
   ]
  },
  {
   "cell_type": "code",
   "execution_count": 7,
   "metadata": {},
   "outputs": [
    {
     "name": "stdout",
     "output_type": "stream",
     "text": [
      "start configuration\n",
      "1 done\n",
      "2 done\n",
      "start configuration\n",
      "1 done\n",
      "2 done\n"
     ]
    }
   ],
   "source": [
    "data = {}\n",
    "data['vgg16'] = []\n",
    "data['resnet18'] = []\n",
    "# data['inception'] = []\n",
    "\n",
    "vgg_slope, vgg_intercept = auto_configure(vgg_model, image_file_path)\n",
    "resnet_slope, resnet_intercept = auto_configure(resnet_model, image_file_path)\n",
    "# inception_slope, inception_intercept = auto_configure(inception_model, image_file_path, 4, 4)\n",
    "        \n",
    "data['vgg16'].append({\n",
    "    'slope': vgg_slope,\n",
    "    'intercept': vgg_intercept,\n",
    "})    \n",
    "\n",
    "\n",
    "data['resnet18'].append({\n",
    "    'slope': resnet_slope,\n",
    "    'intercept': resnet_intercept,\n",
    "})    \n",
    "\n",
    "\n",
    "# data['inception'].append({\n",
    "#     'slope': inception_slope,\n",
    "#     'intercept': inception_intercept,\n",
    "# })    \n",
    "\n",
    "with open('time-estimation.txt', 'w') as outfile:\n",
    "    json.dump(data, outfile)"
   ]
  },
  {
   "cell_type": "code",
   "execution_count": null,
   "metadata": {},
   "outputs": [],
   "source": []
  },
  {
   "cell_type": "code",
   "execution_count": 9,
   "metadata": {},
   "outputs": [
    {
     "name": "stdout",
     "output_type": "stream",
     "text": [
      "2.34310388565\n"
     ]
    }
   ],
   "source": [
    "print(time_elapsed)"
   ]
  },
  {
   "cell_type": "code",
   "execution_count": null,
   "metadata": {},
   "outputs": [
    {
     "name": "stdout",
     "output_type": "stream",
     "text": [
      "pt: 1\n",
      "st: 1\n",
      "x: 1\n",
      "x: 2\n",
      "x: 3\n",
      "x: 4\n",
      "x: 5\n",
      "x: 6\n",
      "x: 7\n",
      "x: 8\n"
     ]
    }
   ],
   "source": [
    "'''\n",
    "start the experimeng with vgg16\n",
    "iterate all time-possibilities of vgg16\n",
    "store all the patch,stride,height,width possibilities into .json \n",
    "as the backend for later estimate time cost\n",
    "of running Krypton\n",
    "'''\n",
    "patch_dict = [1,2,4,8,16]\n",
    "stride_dict = [1,2,4,8,16]\n",
    "\n",
    "data = {}\n",
    "data['vgg16'] = []\n",
    "\n",
    "for pt in patch_dict:\n",
    "    print('pt: ' + str(pt))\n",
    "    for st in stride_dict:\n",
    "        print('st: ' + str(st))\n",
    "        for x in range(1,225):\n",
    "            print('x: ' + str(x))\n",
    "            for y in range(1,225):\n",
    "                #print('y: ' + str(y))\n",
    "                begin_time = time.time()\n",
    "                _,_,_ = inc_inference_with_model(vgg_model, image_file_path, patch_size=pt, stride=st, beta=1.0, x0=0, y0=0, image_size=224, x_size=x,\n",
    "                                      y_size=y, version='v1', gpu=True, c=0.0)\n",
    "                end_time = time.time()\n",
    "                time_elapsed = end_time - begin_time\n",
    "                data['vgg16'].append({\n",
    "                    'patch': pt,\n",
    "                    'stride': st,\n",
    "                    'width': x,\n",
    "                    'height': y,\n",
    "                    'time': time_elapsed\n",
    "                })\n",
    "        \n",
    "        \n",
    "with open('time-estimation.txt', 'w') as outfile:\n",
    "    json.dump(data, outfile)"
   ]
  },
  {
   "cell_type": "code",
   "execution_count": null,
   "metadata": {},
   "outputs": [],
   "source": []
  },
  {
   "cell_type": "code",
   "execution_count": null,
   "metadata": {},
   "outputs": [],
   "source": []
  }
 ],
 "metadata": {
  "kernelspec": {
   "display_name": "Python 2",
   "language": "python",
   "name": "python2"
  },
  "language_info": {
   "codemirror_mode": {
    "name": "ipython",
    "version": 2
   },
   "file_extension": ".py",
   "mimetype": "text/x-python",
   "name": "python",
   "nbconvert_exporter": "python",
   "pygments_lexer": "ipython2",
   "version": "2.7.12"
  }
 },
 "nbformat": 4,
 "nbformat_minor": 2
}
