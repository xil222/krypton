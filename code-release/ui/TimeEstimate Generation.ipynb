{
 "cells": [
  {
   "cell_type": "code",
   "execution_count": 1,
   "metadata": {},
   "outputs": [],
   "source": [
    "import sys\n",
    "import time\n",
    "import json\n",
    "import random\n",
    "import numpy as np\n",
    "\n",
    "sys.path.append('../core/python')\n",
    "\n",
    "from commons import inc_inference_with_model, inc_inference, show_heatmap\n",
    "from imagenet_classes import class_names\n",
    "from vgg16 import VGG16\n",
    "from resnet18 import ResNet18\n",
    "from inception3 import Inception3"
   ]
  },
  {
   "cell_type": "code",
   "execution_count": 2,
   "metadata": {},
   "outputs": [],
   "source": [
    "image_file_path = \"../images/input/imagenet/dog.jpg\""
   ]
  },
  {
   "cell_type": "code",
   "execution_count": 3,
   "metadata": {},
   "outputs": [
    {
     "name": "stderr",
     "output_type": "stream",
     "text": [
      "/usr/local/lib/python2.7/dist-packages/h5py/_hl/dataset.py:313: H5pyDeprecationWarning: dataset.value has been deprecated. Use dataset[()] instead.\n",
      "  \"Use dataset[()] instead.\", H5pyDeprecationWarning)\n"
     ]
    }
   ],
   "source": [
    "#vgg_model = VGG16(beta=1.0, gpu=True, n_labels=1000).eval()\n",
    "#resnet_model = ResNet18(beta=1.0, gpu=True, n_labels=1000).eval()\n",
    "#inception size fix issue \n",
    "#inception_model = Inception3(beta=1.0, gpu=True, n_labels=1000).eval()"
   ]
  },
  {
   "cell_type": "code",
   "execution_count": null,
   "metadata": {},
   "outputs": [],
   "source": []
  },
  {
   "cell_type": "code",
   "execution_count": 14,
   "metadata": {},
   "outputs": [],
   "source": [
    "def calculateX(xsize, ysize, patch, stride):\n",
    "    return (xsize - patch) * (ysize - patch) * 1.0 / stride / stride\n",
    "\n",
    "'''\n",
    "    choose a list of different sizes, using linear regression to make the approach\n",
    "    in terms of the patch_size as well as stride_size, we choose use random choice\n",
    "'''\n",
    "\n",
    "xsize_list = [224, 128, 168, 112, 168, 56, 56]\n",
    "ysize_list = [224, 224, 224, 112, 112, 112, 56]\n",
    "\n",
    "patch_size = [16, 8, 4, 2, 1]\n",
    "stride_size = [16, 8, 4, 2, 1]\n",
    "\n",
    "len_list = len(xsize_list)\n",
    "\n",
    "vgg_paralist = []\n",
    "vgg_timelist = []\n",
    "resnet_paralist = []\n",
    "resnet_timelist = []\n",
    "\n",
    "'''\n",
    "    there will be illegal memory issue for running the same model multiple times?\n",
    "'''\n",
    "\n",
    "for i in range(len_list):\n",
    "    for j in range(2):\n",
    "        patch_sample = random.choice(patch_size)\n",
    "        stride_sample = random.choice(stride_size)\n",
    "        #print('patch_sample ' + str(patch_sample))\n",
    "        #print('stride_sample ' + str(stride_sample))\n",
    "        \n",
    "        x = calculateX(xsize_list[i], ysize_list[i], patch_sample, stride_sample)\n",
    "        start_time = time.time()\n",
    "        _,_,_ = inc_inference(VGG16, image_file_path, patch_size=patch_sample, stride=stride_sample, x_size=xsize_list[i], y_size=ysize_list[i], gpu=True)\n",
    "        #_,_,_ = inc_inference_with_model(vgg_model, image_file_path, patch_size=patch_sample, stride=stride_sample, x_size=xsize_list[i], y_size=ysize_list[i], gpu=True)\n",
    "        \n",
    "        end_time = time.time()\n",
    "        vgg_paralist.append(x)\n",
    "        vgg_timelist.append(end_time - start_time)\n",
    "        \n",
    "        start_time = time.time()\n",
    "        _,_,_ = inc_inference(ResNet18, image_file_path, patch_size=patch_sample, stride=stride_sample, x_size=xsize_list[i], y_size=ysize_list[i], gpu=True)\n",
    "        #_,_,_ = inc_inference_with_model(resnet_model, image_file_path, patch_size=patch_sample, stride=stride_sample, x_size=xsize_list[i], y_size=ysize_list[i], gpu=True)\n",
    "        \n",
    "        end_time = time.time()\n",
    "        resnet_paralist.append(x)\n",
    "        resnet_timelist.append(end_time - start_time)\n",
    "        "
   ]
  },
  {
   "cell_type": "code",
   "execution_count": null,
   "metadata": {},
   "outputs": [],
   "source": []
  },
  {
   "cell_type": "code",
   "execution_count": 15,
   "metadata": {},
   "outputs": [],
   "source": [
    "'''\n",
    "    we have to minimize the ||Ax - b|| --> need to find the optimal approach \n",
    "    Calculate the slope and intercept for a given list for parameters\n",
    "    on the time as well as constant, we'll use closed-form linear regression to derive the slope,\n",
    "    intercept for vgg, resnet. \n",
    "    \n",
    "    vgg_paralist 1 * 14 appends all ones --> to make it A 2 * 14\n",
    "    vgg_timelist 1 * 14\n",
    "'''\n",
    "\n",
    "vgg_paralist = np.asarray(vgg_paralist).reshape((14,1))\n",
    "vgg_timelist = np.asarray(vgg_timelist).reshape((14,1))\n",
    "resnet_paralist = np.asarray(resnet_paralist).reshape((14,1))\n",
    "resnet_timelist = np.asarray(resnet_timelist).reshape((14,1))\n",
    "ones = np.ones((len(vgg_paralist),1))\n"
   ]
  },
  {
   "cell_type": "code",
   "execution_count": 16,
   "metadata": {},
   "outputs": [],
   "source": [
    "A_vgg = np.hstack((vgg_paralist, ones))\n",
    "A_resnet = np.hstack((resnet_paralist, ones))"
   ]
  },
  {
   "cell_type": "code",
   "execution_count": 19,
   "metadata": {},
   "outputs": [],
   "source": [
    "X_vgg = np.dot(np.dot(np.linalg.inv(np.dot(A_vgg.T, A_vgg)),A_vgg.T), vgg_timelist)\n",
    "X_resnet = np.dot(np.dot(np.linalg.inv(np.dot(A_resnet.T, A_resnet)),A_resnet.T), resnet_timelist)"
   ]
  },
  {
   "cell_type": "code",
   "execution_count": 24,
   "metadata": {},
   "outputs": [],
   "source": [
    "data = {}\n",
    "data['vgg16'] = []\n",
    "data['resnet18'] = []\n",
    "\n",
    "data['vgg16'].append({\n",
    "    'slope': X_vgg[0][0],\n",
    "    'intercept': X_vgg[1][0],\n",
    "})    \n",
    "\n",
    "data['resnet18'].append({\n",
    "    'slope': X_resnet[0][0],\n",
    "    'intercept': X_resnet[1][0],\n",
    "})    \n",
    "\n",
    "with open('time-estimation.txt', 'w') as outfile:\n",
    "    json.dump(data, outfile)"
   ]
  },
  {
   "cell_type": "code",
   "execution_count": 23,
   "metadata": {},
   "outputs": [
    {
     "data": {
      "text/plain": [
       "array([1.70122396])"
      ]
     },
     "execution_count": 23,
     "metadata": {},
     "output_type": "execute_result"
    }
   ],
   "source": [
    "X_vgg[1][0]"
   ]
  },
  {
   "cell_type": "code",
   "execution_count": null,
   "metadata": {},
   "outputs": [],
   "source": []
  },
  {
   "cell_type": "code",
   "execution_count": 6,
   "metadata": {},
   "outputs": [],
   "source": [
    "'''\n",
    "    In this auto-configuration, we're targeting on find the intercept & slope for each model based on current GPU\n",
    "    in order to repeat the real scene of the entire time from setting up a model from scratch \n",
    "    parameters affecting the running time are: stride, patch, model, x_size , y_size\n",
    "    However, in one GPU, number of calcualation for a batch size is certain, therefore, we can estimate time to compute \n",
    "    depends on the these input, basically number of computations is on proportional to \n",
    "    number of computations = (x_size - patch) * (y_size - patch) / stride / stride\n",
    "'''\n",
    "\n",
    "'''\n",
    "def makeEstimation(model_class, image_file_path):\n",
    "    slope, intercept = get_parameters(model_class, image_file_path)\n",
    "    return slope, intercept\n",
    "    \n",
    "    \n",
    "def get_parameters(model_class, image_file_path):\n",
    "\tprint('start configuration')\n",
    "\tbegin_time1 = time.time()\n",
    "\t_, _, _ = inc_inference(model_class, image_file_path, patch_size=16, stride=8, beta=1.0, x0=0, y0=0, x_size=224, y_size=224, gpu=True, c=0.0)\n",
    "\tend_time1 = time.time()\n",
    "\tpatch, stride = 16, 8\n",
    "\ty1 = end_time1 - begin_time1\n",
    "\tx1 = (224 - patch) * (224 - patch) * 1.0 / stride / stride\n",
    "\tprint('1 done')\n",
    "\tbegin_time2 = time.time()\n",
    "\t_, _, _ = inc_inference(model_class, image_file_path, patch_size=16, stride=2, beta=1.0, x0=0, y0=0, x_size=100, y_size=100, gpu=True, c=0.0)\n",
    "\tend_time2 = time.time()\n",
    "\tpatch, stride = 16, 2\n",
    "\tprint('2 done')\t\n",
    "\ty2 = end_time2 - begin_time2\n",
    "\tx2 = (100 - patch) * (100 - patch) * 1.0 / stride / stride\n",
    "\talpha = (y2 - y1) / (x2 - x1)\n",
    "\tbeta = y1 - alpha * x1\n",
    "\treturn alpha, beta\n",
    "'''"
   ]
  },
  {
   "cell_type": "code",
   "execution_count": null,
   "metadata": {},
   "outputs": [],
   "source": []
  },
  {
   "cell_type": "code",
   "execution_count": null,
   "metadata": {},
   "outputs": [],
   "source": []
  },
  {
   "cell_type": "code",
   "execution_count": 4,
   "metadata": {},
   "outputs": [],
   "source": [
    "# begin_time = time.time()\n",
    "# _,_,_ = inc_inference_with_model(vgg_model, image_file_path, patch_size=4, stride=4, beta=1.0, x0=0, y0=0, image_size=224, x_size=224,\n",
    "#                       y_size=224, version='v1', gpu=True, c=0.0)\n",
    "# end_time = time.time()\n",
    "# time_elapsed = end_time - begin_time"
   ]
  },
  {
   "cell_type": "code",
   "execution_count": 5,
   "metadata": {},
   "outputs": [],
   "source": [
    "'''\n",
    "    In this auto-configuration, we're targeting on find the intercept & slope for each model based on current GPU\n",
    "    we'll plug in 2 samples to calculate the slope & intercept and save them into json file. \n",
    "    In this way, we can save lots of time in calculating time-estimation.\n",
    "'''\n",
    "\n",
    "def makeEstimation(model, image_file_path):\n",
    "    slope, intercept = auto_configure(model, image_file_path)\n",
    "    return slope, intercept\n",
    "    \n",
    "    \n",
    "def auto_configure(model, image_file_path):\n",
    "\tprint('start configuration')\n",
    "\tbegin_time1 = time.time()\n",
    "\t_, _, _ = inc_inference_with_model(model, image_file_path, patch_size=16, stride=8, beta=1.0, x0=0, y0=0, x_size=224, y_size=224, gpu=True, c=0.0)\n",
    "\tend_time1 = time.time()\n",
    "\tpatch, stride = 16, 8\n",
    "\ty1 = end_time1 - begin_time1\n",
    "\tx1 = (224 - patch) * (224 - patch) * 1.0 / stride / stride\n",
    "\tprint('1 done')\n",
    "\tbegin_time2 = time.time()\n",
    "\t_, _, _ = inc_inference_with_model(model, image_file_path, patch_size=16, stride=2, beta=1.0, x0=0, y0=0, x_size=100, y_size=100, gpu=True, c=0.0)\n",
    "\tend_time2 = time.time()\n",
    "\tpatch, stride = 16, 2\n",
    "\tprint('2 done')\t\n",
    "\ty2 = end_time2 - begin_time2\n",
    "\tx2 = (100 - patch) * (100 - patch) * 1.0 / stride / stride\n",
    "\talpha = (y2 - y1) / (x2 - x1)\n",
    "\tbeta = y1 - alpha * x1\n",
    "\treturn alpha, beta\n",
    " "
   ]
  },
  {
   "cell_type": "code",
   "execution_count": null,
   "metadata": {},
   "outputs": [],
   "source": []
  },
  {
   "cell_type": "code",
   "execution_count": null,
   "metadata": {},
   "outputs": [
    {
     "name": "stdout",
     "output_type": "stream",
     "text": [
      "pt: 1\n",
      "st: 1\n",
      "x: 1\n",
      "x: 2\n",
      "x: 3\n",
      "x: 4\n",
      "x: 5\n",
      "x: 6\n",
      "x: 7\n",
      "x: 8\n"
     ]
    }
   ],
   "source": [
    "'''\n",
    "start the experimeng with vgg16\n",
    "iterate all time-possibilities of vgg16\n",
    "store all the patch,stride,height,width possibilities into .json \n",
    "as the backend for later estimate time cost\n",
    "of running Krypton\n",
    "'''\n",
    "patch_dict = [1,2,4,8,16]\n",
    "stride_dict = [1,2,4,8,16]\n",
    "\n",
    "data = {}\n",
    "data['vgg16'] = []\n",
    "\n",
    "for pt in patch_dict:\n",
    "    print('pt: ' + str(pt))\n",
    "    for st in stride_dict:\n",
    "        print('st: ' + str(st))\n",
    "        for x in range(1,225):\n",
    "            print('x: ' + str(x))\n",
    "            for y in range(1,225):\n",
    "                #print('y: ' + str(y))\n",
    "                begin_time = time.time()\n",
    "                _,_,_ = inc_inference_with_model(vgg_model, image_file_path, patch_size=pt, stride=st, beta=1.0, x0=0, y0=0, image_size=224, x_size=x,\n",
    "                                      y_size=y, version='v1', gpu=True, c=0.0)\n",
    "                end_time = time.time()\n",
    "                time_elapsed = end_time - begin_time\n",
    "                data['vgg16'].append({\n",
    "                    'patch': pt,\n",
    "                    'stride': st,\n",
    "                    'width': x,\n",
    "                    'height': y,\n",
    "                    'time': time_elapsed\n",
    "                })\n",
    "        \n",
    "        \n",
    "with open('time-estimation.txt', 'w') as outfile:\n",
    "    json.dump(data, outfile)"
   ]
  },
  {
   "cell_type": "code",
   "execution_count": null,
   "metadata": {},
   "outputs": [],
   "source": []
  },
  {
   "cell_type": "code",
   "execution_count": null,
   "metadata": {},
   "outputs": [],
   "source": []
  }
 ],
 "metadata": {
  "kernelspec": {
   "display_name": "Python 2",
   "language": "python",
   "name": "python2"
  },
  "language_info": {
   "codemirror_mode": {
    "name": "ipython",
    "version": 2
   },
   "file_extension": ".py",
   "mimetype": "text/x-python",
   "name": "python",
   "nbconvert_exporter": "python",
   "pygments_lexer": "ipython2",
   "version": "2.7.12"
  }
 },
 "nbformat": 4,
 "nbformat_minor": 2
}
