{
 "cells": [
  {
   "cell_type": "code",
   "execution_count": 4,
   "metadata": {},
   "outputs": [],
   "source": [
    "import sys\n",
    "import time\n",
    "import json\n",
    "\n",
    "sys.path.append('../core/python')\n",
    "\n",
    "from commons import inc_inference, show_heatmap\n",
    "from imagenet_classes import class_names\n",
    "from vgg16 import VGG16"
   ]
  },
  {
   "cell_type": "code",
   "execution_count": 5,
   "metadata": {},
   "outputs": [],
   "source": [
    "image_file_path = \"../images/input/imagenet/dog.jpg\""
   ]
  },
  {
   "cell_type": "code",
   "execution_count": null,
   "metadata": {},
   "outputs": [],
   "source": []
  },
  {
   "cell_type": "code",
   "execution_count": null,
   "metadata": {},
   "outputs": [
    {
     "name": "stdout",
     "output_type": "stream",
     "text": [
      "pt: 1\n",
      "st: 1\n"
     ]
    }
   ],
   "source": [
    "'''\n",
    "start the experimeng with vgg16\n",
    "iterate all time-possibilities of vgg16\n",
    "store all the patch,stride,height,width possibilities into .json \n",
    "as the backend for later estimate time cost\n",
    "of running Krypton\n",
    "'''\n",
    "patch_dict = [1,2,4,8,16]\n",
    "stride_dict = [1,2,4,8,16]\n",
    "\n",
    "data = {}\n",
    "data['vgg16'] = []\n",
    "\n",
    "for pt in patch_dict:\n",
    "    print('pt: ' + str(pt))\n",
    "    for st in stride_dict:\n",
    "        print('st: ' + str(st))\n",
    "        for x in range(224):\n",
    "            for y in range(224):\n",
    "                begin_time = time.time()\n",
    "                _,_,_ = inc_inference(VGG16, image_file_path, patch_size=pt, stride=st, beta=1.0, x0=0, y0=0, image_size=224, x_size=x,\n",
    "                                      y_size=y, version='v1', gpu=True, c=0.0)\n",
    "                end_time = time.time()\n",
    "                time_elapsed = end_time - begin_time\n",
    "                data['vgg16'].append({\n",
    "                    'patch': pt,\n",
    "                    'stride': st,\n",
    "                    'width': x,\n",
    "                    'height': y,\n",
    "                    'time': time_elapsed\n",
    "                })\n",
    "        \n",
    "        \n",
    "with open('time-estimation.txt', 'w') as outfile:\n",
    "    json.dump(data, outfile)"
   ]
  },
  {
   "cell_type": "code",
   "execution_count": null,
   "metadata": {},
   "outputs": [],
   "source": []
  },
  {
   "cell_type": "code",
   "execution_count": null,
   "metadata": {},
   "outputs": [],
   "source": []
  }
 ],
 "metadata": {
  "kernelspec": {
   "display_name": "Python 2",
   "language": "python",
   "name": "python2"
  },
  "language_info": {
   "codemirror_mode": {
    "name": "ipython",
    "version": 2
   },
   "file_extension": ".py",
   "mimetype": "text/x-python",
   "name": "python",
   "nbconvert_exporter": "python",
   "pygments_lexer": "ipython2",
   "version": "2.7.12"
  }
 },
 "nbformat": 4,
 "nbformat_minor": 2
}
