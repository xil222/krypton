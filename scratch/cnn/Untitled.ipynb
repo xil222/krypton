{
 "cells": [
  {
   "cell_type": "code",
   "execution_count": 1,
   "metadata": {},
   "outputs": [
    {
     "name": "stderr",
     "output_type": "stream",
     "text": [
      "/usr/local/lib/python2.7/dist-packages/h5py/__init__.py:36: FutureWarning: Conversion of the second argument of issubdtype from `float` to `np.floating` is deprecated. In future, it will be treated as `np.float64 == np.dtype(float).type`.\n",
      "  from ._conv import register_converters as _register_converters\n"
     ]
    }
   ],
   "source": [
    "import torch\n",
    "import numpy as np\n",
    "from torchvision.transforms import transforms\n",
    "import random\n",
    "from PIL import Image\n",
    "from resnet18 import ResNet18\n",
    "from torch.autograd import Variable\n",
    "from resnet18_inc_v2 import IncrementalResNet18V2\n",
    "import torch.utils.model_zoo as model_zoo\n",
    "\n",
    "from cnn.imagenet_classes import class_names\n",
    "from inception3 import Inception3"
   ]
  },
  {
   "cell_type": "code",
   "execution_count": 2,
   "metadata": {},
   "outputs": [],
   "source": [
    "from inception3_inc_v2 import IncrementalInception3V2"
   ]
  },
  {
   "cell_type": "code",
   "execution_count": 3,
   "metadata": {
    "scrolled": false
   },
   "outputs": [],
   "source": [
    "# batch_size = 1\n",
    "\n",
    "# loader = transforms.Compose([transforms.Resize([299, 299]), transforms.ToTensor()])\n",
    "# images = Image.open('./dog_resized.jpg')\n",
    "\n",
    "# images = loader(images)\n",
    "# images = images.unsqueeze(0).cuda()\n",
    "\n",
    "# images = images.repeat(batch_size, 1, 1, 1)\n",
    "\n",
    "# model = Inception3().cuda()\n",
    "# model.eval()\n",
    "\n",
    "# x = model(images)\n",
    "# print(class_names[np.argmax(x.data.cpu().numpy()[0, :])])"
   ]
  },
  {
   "cell_type": "code",
   "execution_count": 4,
   "metadata": {},
   "outputs": [
    {
     "name": "stdout",
     "output_type": "stream",
     "text": [
      "1.66893e-06\n"
     ]
    }
   ],
   "source": [
    "batch_size = 1\n",
    "patch_size = 16\n",
    "input_size = 299\n",
    "\n",
    "image_patch = torch.cuda.FloatTensor(3, patch_size, patch_size).fill_(0)\n",
    "\n",
    "x_loc = random.sample(range(0, input_size - patch_size), batch_size)\n",
    "y_loc = random.sample(range(0, input_size - patch_size), batch_size)\n",
    "patch_locations = zip(x_loc, y_loc)\n",
    "patch_locations = [(0, 0)]\n",
    "\n",
    "loader = transforms.Compose([transforms.Resize([299, 299]), transforms.ToTensor()])\n",
    "images = Image.open('./dog_resized.jpg')\n",
    "images = loader(images)\n",
    "\n",
    "images = images.unsqueeze(0)\n",
    "images = images.repeat(batch_size, 1, 1, 1)\n",
    "\n",
    "inc_model = IncrementalInception3V2(images, beta=1.0)\n",
    "\n",
    "for i,(x,y) in enumerate(patch_locations):\n",
    "    images[i, :, x:x+patch_size, y:y+patch_size] = image_patch\n",
    "\n",
    "full_model = Inception3()\n",
    "full_model.eval()\n",
    "y = full_model.forward_materialized(images.cuda())\n",
    "\n",
    "patch_locations = torch.from_numpy(np.array(patch_locations, dtype=np.int32))\n",
    "\n",
    "inc_model.eval()\n",
    "x = inc_model(images, patch_locations, patch_size, patch_size)\n",
    "# print(class_names[np.argmax(x.data.cpu().numpy()[0, :])])\n",
    "\n",
    "temp = (y - x).cpu().data.numpy()\n",
    "# import matplotlib.pyplot as plt\n",
    "# plt.imshow(temp[0,1,:,:])\n",
    "# plt.colorbar()\n",
    "# plt.show()\n",
    "print(np.max(np.abs(temp)))"
   ]
  },
  {
   "cell_type": "code",
   "execution_count": 5,
   "metadata": {},
   "outputs": [
    {
     "data": {
      "text/plain": [
       "(0,)"
      ]
     },
     "execution_count": 5,
     "metadata": {},
     "output_type": "execute_result"
    }
   ],
   "source": [
    "np.where(np.abs(temp) > 1e-3)[0].shape"
   ]
  },
  {
   "cell_type": "code",
   "execution_count": 6,
   "metadata": {},
   "outputs": [
    {
     "ename": "IndexError",
     "evalue": "too many indices for array",
     "output_type": "error",
     "traceback": [
      "\u001b[0;31m\u001b[0m",
      "\u001b[0;31mIndexError\u001b[0mTraceback (most recent call last)",
      "\u001b[0;32m<ipython-input-6-836644a12a19>\u001b[0m in \u001b[0;36m<module>\u001b[0;34m()\u001b[0m\n\u001b[1;32m      1\u001b[0m \u001b[0mtemp\u001b[0m \u001b[0;34m=\u001b[0m \u001b[0;34m(\u001b[0m\u001b[0my\u001b[0m\u001b[0;34m)\u001b[0m\u001b[0;34m.\u001b[0m\u001b[0mcpu\u001b[0m\u001b[0;34m(\u001b[0m\u001b[0;34m)\u001b[0m\u001b[0;34m.\u001b[0m\u001b[0mdata\u001b[0m\u001b[0;34m.\u001b[0m\u001b[0mnumpy\u001b[0m\u001b[0;34m(\u001b[0m\u001b[0;34m)\u001b[0m\u001b[0;34m\u001b[0m\u001b[0m\n\u001b[1;32m      2\u001b[0m \u001b[0;32mimport\u001b[0m \u001b[0mmatplotlib\u001b[0m\u001b[0;34m.\u001b[0m\u001b[0mpyplot\u001b[0m \u001b[0;32mas\u001b[0m \u001b[0mplt\u001b[0m\u001b[0;34m\u001b[0m\u001b[0m\n\u001b[0;32m----> 3\u001b[0;31m \u001b[0mplt\u001b[0m\u001b[0;34m.\u001b[0m\u001b[0mimshow\u001b[0m\u001b[0;34m(\u001b[0m\u001b[0mtemp\u001b[0m\u001b[0;34m[\u001b[0m\u001b[0;36m0\u001b[0m\u001b[0;34m,\u001b[0m\u001b[0;36m1\u001b[0m\u001b[0;34m,\u001b[0m\u001b[0;34m:\u001b[0m\u001b[0;34m,\u001b[0m\u001b[0;34m:\u001b[0m\u001b[0;34m]\u001b[0m\u001b[0;34m)\u001b[0m\u001b[0;34m\u001b[0m\u001b[0m\n\u001b[0m\u001b[1;32m      4\u001b[0m \u001b[0mplt\u001b[0m\u001b[0;34m.\u001b[0m\u001b[0mcolorbar\u001b[0m\u001b[0;34m(\u001b[0m\u001b[0;34m)\u001b[0m\u001b[0;34m\u001b[0m\u001b[0m\n\u001b[1;32m      5\u001b[0m \u001b[0mplt\u001b[0m\u001b[0;34m.\u001b[0m\u001b[0mshow\u001b[0m\u001b[0;34m(\u001b[0m\u001b[0;34m)\u001b[0m\u001b[0;34m\u001b[0m\u001b[0m\n",
      "\u001b[0;31mIndexError\u001b[0m: too many indices for array"
     ]
    }
   ],
   "source": [
    "temp = (y).cpu().data.numpy()\n",
    "import matplotlib.pyplot as plt\n",
    "plt.imshow(temp[0,1,:,:])\n",
    "plt.colorbar()\n",
    "plt.show()\n",
    "print(np.max(np.abs(temp)))"
   ]
  },
  {
   "cell_type": "code",
   "execution_count": null,
   "metadata": {},
   "outputs": [],
   "source": [
    "temp = (x).cpu().data.numpy()\n",
    "import matplotlib.pyplot as plt\n",
    "plt.imshow(temp[0,1,:,:])\n",
    "plt.colorbar()\n",
    "plt.show()\n",
    "print(np.max(np.abs(temp)))"
   ]
  },
  {
   "cell_type": "code",
   "execution_count": null,
   "metadata": {},
   "outputs": [],
   "source": [
    "temp = (y - x).cpu().data.numpy()\n",
    "import matplotlib.pyplot as plt\n",
    "plt.imshow(temp[0,1,:,:])\n",
    "plt.colorbar()\n",
    "plt.show()\n",
    "print(np.max(np.abs(temp)))"
   ]
  },
  {
   "cell_type": "code",
   "execution_count": null,
   "metadata": {},
   "outputs": [],
   "source": []
  }
 ],
 "metadata": {
  "kernelspec": {
   "display_name": "Python 2",
   "language": "python",
   "name": "python2"
  },
  "language_info": {
   "codemirror_mode": {
    "name": "ipython",
    "version": 2
   },
   "file_extension": ".py",
   "mimetype": "text/x-python",
   "name": "python",
   "nbconvert_exporter": "python",
   "pygments_lexer": "ipython2",
   "version": "2.7.12"
  }
 },
 "nbformat": 4,
 "nbformat_minor": 2
}
