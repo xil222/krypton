{
 "cells": [
  {
   "cell_type": "code",
   "execution_count": 5,
   "metadata": {},
   "outputs": [],
   "source": [
    "import torch\n",
    "import numpy as np\n",
    "from torchvision.transforms import transforms\n",
    "import random\n",
    "from PIL import Image\n",
    "from resnet18 import ResNet18\n",
    "from torch.autograd import Variable\n",
    "from resnet18_inc_v2 import IncrementalResNet18V2\n",
    "import torch.utils.model_zoo as model_zoo\n",
    "\n",
    "from cnn.imagenet_classes import class_names\n",
    "from inception3 import Inception3"
   ]
  },
  {
   "cell_type": "code",
   "execution_count": 6,
   "metadata": {
    "scrolled": false
   },
   "outputs": [
    {
     "name": "stdout",
     "output_type": "stream",
     "text": [
      "Labrador retriever\n"
     ]
    }
   ],
   "source": [
    "batch_size = 1\n",
    "\n",
    "loader = transforms.Compose([transforms.Resize([299, 299]), transforms.ToTensor()])\n",
    "images = Image.open('./dog_resized.jpg')\n",
    "\n",
    "images = loader(images)\n",
    "images = images.unsqueeze(0).cuda()\n",
    "\n",
    "images = images.repeat(batch_size, 1, 1, 1)\n",
    "\n",
    "model = Inception3().cuda()\n",
    "model.eval()\n",
    "\n",
    "x = model(images)\n",
    "print(class_names[np.argmax(x.data.cpu().numpy()[0, :])])"
   ]
  },
  {
   "cell_type": "code",
   "execution_count": null,
   "metadata": {},
   "outputs": [],
   "source": []
  }
 ],
 "metadata": {
  "kernelspec": {
   "display_name": "Python 2",
   "language": "python",
   "name": "python2"
  },
  "language_info": {
   "codemirror_mode": {
    "name": "ipython",
    "version": 2
   },
   "file_extension": ".py",
   "mimetype": "text/x-python",
   "name": "python",
   "nbconvert_exporter": "python",
   "pygments_lexer": "ipython2",
   "version": "2.7.12"
  }
 },
 "nbformat": 4,
 "nbformat_minor": 2
}
