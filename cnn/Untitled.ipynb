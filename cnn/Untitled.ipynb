{
 "cells": [
  {
   "cell_type": "code",
   "execution_count": 1,
   "metadata": {},
   "outputs": [
    {
     "name": "stderr",
     "output_type": "stream",
     "text": [
      "/usr/local/lib/python2.7/dist-packages/h5py/__init__.py:36: FutureWarning: Conversion of the second argument of issubdtype from `float` to `np.floating` is deprecated. In future, it will be treated as `np.float64 == np.dtype(float).type`.\n",
      "  from ._conv import register_converters as _register_converters\n"
     ]
    }
   ],
   "source": [
    "import random\n",
    "\n",
    "import numpy as np\n",
    "import torch\n",
    "import math\n",
    "import torch.nn as nn\n",
    "from PIL import Image\n",
    "from torch.autograd import Variable\n",
    "from torchvision.transforms import transforms\n",
    "\n",
    "from commons import inc_convolution, inc_max_pool\n",
    "from imagenet_classes import class_names\n",
    "from vgg16 import VGG16"
   ]
  },
  {
   "cell_type": "code",
   "execution_count": 4,
   "metadata": {},
   "outputs": [
    {
     "name": "stdout",
     "output_type": "stream",
     "text": [
      "(tensor([[ 103,  103]], dtype=torch.int32, device='cuda:0'), 18)\n",
      "(tensor([[ 102,  102]], dtype=torch.int32, device='cuda:0'), 20)\n",
      "(tensor([[ 51,  51]], dtype=torch.int32, device='cuda:0'), 11)\n",
      "(tensor([[ 50,  50]], dtype=torch.int32, device='cuda:0'), 13)\n",
      "(tensor([[ 49,  49]], dtype=torch.int32, device='cuda:0'), 15)\n",
      "(tensor([[ 24,  24]], dtype=torch.int32, device='cuda:0'), 8)\n",
      "(tensor([[ 23,  23]], dtype=torch.int32, device='cuda:0'), 10)\n",
      "(tensor([[ 22,  22]], dtype=torch.int32, device='cuda:0'), 12)\n",
      "(tensor([[ 21,  21]], dtype=torch.int32, device='cuda:0'), 14)\n",
      "(tensor([[ 10,  10]], dtype=torch.int32, device='cuda:0'), 8)\n",
      "(tensor([[ 9,  9]], dtype=torch.int32, device='cuda:0'), 10)\n",
      "(tensor([[ 8,  8]], dtype=torch.int32, device='cuda:0'), 12)\n",
      "(tensor([[ 7,  7]], dtype=torch.int32, device='cuda:0'), 14)\n",
      "(tensor([[ 4,  4]], dtype=torch.int32, device='cuda:0'), 7)\n",
      "(tensor([[ 4,  4]], dtype=torch.int32, device='cuda:0'), 7)\n",
      "(tensor([[ 4,  4]], dtype=torch.int32, device='cuda:0'), 7)\n",
      "(tensor([[ 4,  4]], dtype=torch.int32, device='cuda:0'), 7)\n",
      "(tensor([[ 2,  2]], dtype=torch.int32, device='cuda:0'), 4)\n"
     ]
    }
   ],
   "source": [
    "batch_size = 1\n",
    "patch_size = 16\n",
    "input_size = 224\n",
    "\n",
    "p = (input_size - patch_size)//2\n",
    "patch_locations = [(p, p)]*batch_size\n",
    "\n",
    "loader = transforms.Compose([transforms.Resize([224, 224]), transforms.ToTensor()])\n",
    "images = Image.open('./dog_resized.jpg')\n",
    "images = loader(images)\n",
    "\n",
    "images = images.unsqueeze(0)\n",
    "images_batch = images.repeat(batch_size, 1, 1, 1)\n",
    "\n",
    "image_patch = torch.cuda.FloatTensor(3, patch_size, patch_size).fill_(0)\n",
    "\n",
    "for i,(x,y) in enumerate(patch_locations):\n",
    "    images_batch[i, :, x:x+patch_size, y:y+patch_size] = image_patch\n",
    "\n",
    "y = VGG16().forward(images_batch.cuda())\n",
    "\n",
    "image_patches = image_patch.unsqueeze(0).repeat(batch_size, 1, 1, 1)\n",
    "patch_locations = torch.from_numpy(np.array(patch_locations, dtype=np.int32))\n",
    "\n",
    "inc_model = VGG16(beta=0.5)\n",
    "\n",
    "inc_model.eval()\n",
    "inc_model.forward_materialized(images)\n",
    "x = inc_model.forward_gpu(image_patches, patch_locations, patch_size, patch_size)"
   ]
  },
  {
   "cell_type": "code",
   "execution_count": 3,
   "metadata": {},
   "outputs": [
    {
     "name": "stdout",
     "output_type": "stream",
     "text": [
      "2.3841858e-07\n"
     ]
    }
   ],
   "source": [
    "s = 100\n",
    "p = 62\n",
    "#temp = x - y[:,:,p:p+s,p:p+s]\n",
    "\n",
    "temp = y-x\n",
    "\n",
    "temp = temp.cpu().data.numpy()\n",
    "print(np.max(np.abs(temp)))"
   ]
  },
  {
   "cell_type": "code",
   "execution_count": null,
   "metadata": {},
   "outputs": [],
   "source": []
  }
 ],
 "metadata": {
  "kernelspec": {
   "display_name": "Python 2",
   "language": "python",
   "name": "python2"
  },
  "language_info": {
   "codemirror_mode": {
    "name": "ipython",
    "version": 2
   },
   "file_extension": ".py",
   "mimetype": "text/x-python",
   "name": "python",
   "nbconvert_exporter": "python",
   "pygments_lexer": "ipython2",
   "version": "2.7.12"
  }
 },
 "nbformat": 4,
 "nbformat_minor": 2
}
