{
 "cells": [
  {
   "cell_type": "code",
   "execution_count": 1,
   "metadata": {},
   "outputs": [
    {
     "name": "stderr",
     "output_type": "stream",
     "text": [
      "/usr/local/lib/python2.7/dist-packages/h5py/__init__.py:36: FutureWarning: Conversion of the second argument of issubdtype from `float` to `np.floating` is deprecated. In future, it will be treated as `np.float64 == np.dtype(float).type`.\n",
      "  from ._conv import register_converters as _register_converters\n"
     ]
    }
   ],
   "source": [
    "import torch\n",
    "import numpy as np\n",
    "from torchvision.transforms import transforms\n",
    "import random\n",
    "from PIL import Image\n",
    "from resnet18 import ResNet18\n",
    "from torch.autograd import Variable\n",
    "from resnet18_inc_v2 import IncrementalResNet18V2\n",
    "import torch.utils.model_zoo as model_zoo\n",
    "\n",
    "from inception3 import Inception3, Inception3My"
   ]
  },
  {
   "cell_type": "code",
   "execution_count": 2,
   "metadata": {
    "scrolled": false
   },
   "outputs": [
    {
     "name": "stdout",
     "output_type": "stream",
     "text": [
      "0.0\n"
     ]
    }
   ],
   "source": [
    "batch_size = 1\n",
    "patch_size = 4\n",
    "input_size = 299\n",
    "\n",
    "image_patch = torch.cuda.FloatTensor(3, patch_size, patch_size).fill_(0)\n",
    "\n",
    "x_loc = random.sample(range(0, input_size - patch_size), batch_size)\n",
    "y_loc = random.sample(range(0, input_size - patch_size), batch_size)\n",
    "patch_locations = zip(x_loc, y_loc)\n",
    "patch_locations = [(101, 92)]\n",
    "\n",
    "loader = transforms.Compose([transforms.Resize([299, 299]), transforms.ToTensor()])\n",
    "images1 = Image.open('./dog_resized.jpg')\n",
    "images1 = loader(images1)\n",
    "images1 = images1.unsqueeze(0)\n",
    "images1 = images1.repeat(batch_size, 1, 1, 1).cuda()\n",
    "#images2 = images1.clone()\n",
    "\n",
    "inc_model = Inception3().eval().cuda()\n",
    "inc_model.load_state_dict(model_zoo.load_url('https://download.pytorch.org/models/inception_v3_google-1a9a5a14.pth'))\n",
    "inc_model.eval()\n",
    "model = Inception3My().eval()\n",
    "model.eval()\n",
    "\n",
    "for i,(x,y) in enumerate(patch_locations):\n",
    "    images1[i, :, x:x+patch_size, y:y+patch_size] = image_patch\n",
    "\n",
    "y = model(images1)\n",
    "#y = inc_model.Mixed_5b(y)\n",
    "\n",
    "\n",
    "patch_locations = torch.from_numpy(np.array(patch_locations, dtype=np.int32))\n",
    "x = inc_model.forward(images1)\n",
    "\n",
    "\n",
    "# y = model.conv1_op[1].weight.data\n",
    "# x = inc_model.Conv2d_1a_3x3.bn.weight.data\n",
    "\n",
    "temp = (y-x).cpu().data.numpy()\n",
    "# import matplotlib.pyplot as plt\n",
    "# plt.imshow(temp[0,225,:,:])\n",
    "# plt.colorbar()\n",
    "# plt.show()\n",
    "print(np.sum(np.abs(temp)))"
   ]
  },
  {
   "cell_type": "code",
   "execution_count": null,
   "metadata": {},
   "outputs": [],
   "source": []
  }
 ],
 "metadata": {
  "kernelspec": {
   "display_name": "Python 2",
   "language": "python",
   "name": "python2"
  },
  "language_info": {
   "codemirror_mode": {
    "name": "ipython",
    "version": 2
   },
   "file_extension": ".py",
   "mimetype": "text/x-python",
   "name": "python",
   "nbconvert_exporter": "python",
   "pygments_lexer": "ipython2",
   "version": "2.7.12"
  }
 },
 "nbformat": 4,
 "nbformat_minor": 2
}
