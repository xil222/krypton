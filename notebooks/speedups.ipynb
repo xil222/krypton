{
 "cells": [
  {
   "cell_type": "code",
   "execution_count": 1,
   "metadata": {},
   "outputs": [
    {
     "name": "stderr",
     "output_type": "stream",
     "text": [
      "/usr/local/lib/python2.7/dist-packages/h5py/__init__.py:36: FutureWarning: Conversion of the second argument of issubdtype from `float` to `np.floating` is deprecated. In future, it will be treated as `np.float64 == np.dtype(float).type`.\n",
      "  from ._conv import register_converters as _register_converters\n"
     ]
    }
   ],
   "source": [
    "import time\n",
    "import torch\n",
    "from torch.autograd import Variable\n",
    "import matplotlib.pyplot as plt\n",
    "import numpy as np\n",
    "import random\n",
    "\n",
    "import sys\n",
    "sys.path.append('../')\n",
    "from cnn.commons import inc_convolution, inc_convolution2\n",
    "from cnn.commons import inc_max_pool, inc_max_pool2"
   ]
  },
  {
   "cell_type": "markdown",
   "metadata": {},
   "source": [
    "### Theoretical and Eperical Speedups"
   ]
  },
  {
   "cell_type": "code",
   "execution_count": 18,
   "metadata": {},
   "outputs": [],
   "source": [
    "batch_size = 1\n",
    "in_channels = 128\n",
    "in_size = 112\n",
    "out_channels = in_channels\n",
    "out_size = in_size\n",
    "k_size = 3\n",
    "\n",
    "conv = True"
   ]
  },
  {
   "cell_type": "code",
   "execution_count": 3,
   "metadata": {},
   "outputs": [
    {
     "ename": "TypeError",
     "evalue": "inc_convolution2() takes exactly 12 arguments (11 given)",
     "output_type": "error",
     "traceback": [
      "\u001b[0;31m\u001b[0m",
      "\u001b[0;31mTypeError\u001b[0mTraceback (most recent call last)",
      "\u001b[0;32m<ipython-input-3-4cccb605c2d2>\u001b[0m in \u001b[0;36m<module>\u001b[0;34m()\u001b[0m\n\u001b[1;32m     84\u001b[0m         \u001b[0mpatch_location_tensor\u001b[0m \u001b[0;34m=\u001b[0m \u001b[0mlocations\u001b[0m\u001b[0;34m.\u001b[0m\u001b[0mcuda\u001b[0m\u001b[0;34m(\u001b[0m\u001b[0;34m)\u001b[0m\u001b[0;34m\u001b[0m\u001b[0m\n\u001b[1;32m     85\u001b[0m         \u001b[0;32mif\u001b[0m \u001b[0mconv\u001b[0m\u001b[0;34m:\u001b[0m\u001b[0;34m\u001b[0m\u001b[0m\n\u001b[0;32m---> 86\u001b[0;31m             \u001b[0minc_convolution2\u001b[0m\u001b[0;34m(\u001b[0m\u001b[0min_tensor\u001b[0m\u001b[0;34m.\u001b[0m\u001b[0mdata\u001b[0m\u001b[0;34m,\u001b[0m \u001b[0min_tensor\u001b[0m\u001b[0;34m.\u001b[0m\u001b[0mdata\u001b[0m\u001b[0;34m[\u001b[0m\u001b[0;34m:\u001b[0m\u001b[0;34m,\u001b[0m\u001b[0;34m:\u001b[0m\u001b[0;34m,\u001b[0m\u001b[0;36m0\u001b[0m\u001b[0;34m:\u001b[0m\u001b[0mp_size\u001b[0m\u001b[0;34m,\u001b[0m\u001b[0;36m0\u001b[0m\u001b[0;34m:\u001b[0m\u001b[0mp_size\u001b[0m\u001b[0;34m]\u001b[0m\u001b[0;34m,\u001b[0m \u001b[0mweights\u001b[0m\u001b[0;34m.\u001b[0m\u001b[0mdata\u001b[0m\u001b[0;34m,\u001b[0m \u001b[0mbiases\u001b[0m\u001b[0;34m.\u001b[0m\u001b[0mdata\u001b[0m\u001b[0;34m,\u001b[0m \u001b[0mout_ptch\u001b[0m\u001b[0;34m.\u001b[0m\u001b[0mdata\u001b[0m\u001b[0;34m,\u001b[0m \u001b[0mpatch_location_tensor\u001b[0m\u001b[0;34m,\u001b[0m \u001b[0;36m1\u001b[0m\u001b[0;34m,\u001b[0m \u001b[0;36m1\u001b[0m\u001b[0;34m,\u001b[0m \u001b[0mp_height\u001b[0m\u001b[0;34m=\u001b[0m\u001b[0mp_size\u001b[0m\u001b[0;34m,\u001b[0m \u001b[0mp_width\u001b[0m\u001b[0;34m=\u001b[0m\u001b[0mp_size\u001b[0m\u001b[0;34m,\u001b[0m \u001b[0mbeta\u001b[0m\u001b[0;34m=\u001b[0m\u001b[0;36m1.0\u001b[0m\u001b[0;34m)\u001b[0m\u001b[0;34m\u001b[0m\u001b[0m\n\u001b[0m\u001b[1;32m     87\u001b[0m         \u001b[0;32melse\u001b[0m\u001b[0;34m:\u001b[0m\u001b[0;34m\u001b[0m\u001b[0m\n\u001b[1;32m     88\u001b[0m             inc_max_pool(in_tensor, out_ptch, patch_location_tensor,\n",
      "\u001b[0;31mTypeError\u001b[0m: inc_convolution2() takes exactly 12 arguments (11 given)"
     ]
    }
   ],
   "source": [
    "\n",
    "theoretical_speedup = []\n",
    "emperical_speedup = []\n",
    "best_achievable_speedup = []\n",
    "cudnn_speedup = []\n",
    "\n",
    "in_tensor = torch.FloatTensor(batch_size, in_channels,  in_size, in_size).random_(0, 10)\n",
    "weights = torch.FloatTensor(out_channels, in_channels, k_size, k_size).random_(0, 10)\n",
    "biases = torch.FloatTensor(out_channels).random_(0, 10)\n",
    "\n",
    "in_tensor, weights, biases = in_tensor.cuda(), weights.cuda(), biases.cuda()\n",
    "\n",
    "conv_module = torch.nn.Conv2d(in_channels, out_channels, k_size, padding=1, stride=1).cuda()\n",
    "conv_module.weight.data = weights\n",
    "conv_module.bias.data = biases\n",
    "conv_module = torch.nn.Sequential(conv_module, torch.nn.ReLU(inplace=True))\n",
    "max_pool_module = torch.nn.MaxPool2d(kernel_size=2, stride=2)\n",
    "\n",
    "in_tensor, weights, biases = Variable(in_tensor), Variable(weights), Variable(biases)\n",
    "\n",
    "\n",
    "#full inference\n",
    "if conv:\n",
    "    temp = conv_module(in_tensor)\n",
    "else:\n",
    "    temp = max_pool_module(in_tensor)\n",
    "    \n",
    "torch.cuda.synchronize()\n",
    "prev_time = time.time()\n",
    "for i in range(5):\n",
    "    if conv:\n",
    "        out_ptch = conv_module(in_tensor)\n",
    "    else:\n",
    "        out_ptch = max_pool_module(in_tensor)\n",
    "    torch.cuda.synchronize()\n",
    "torch.cuda.synchronize()\n",
    "full_time = (time.time()-prev_time)/5/batch_size\n",
    "\n",
    "x = range(1, in_size//2, k_size-1)\n",
    "x_label = []\n",
    "\n",
    "for p_size in x:\n",
    "    \n",
    "    #sanity check\n",
    "    if p_size >= in_size:\n",
    "        continue\n",
    "    else:\n",
    "        x_label.append(p_size)\n",
    "\n",
    "    x_loc = [random.choice(range(0, in_size-p_size)) for _ in range(batch_size)]\n",
    "    y_loc = [random.choice(range(0, in_size-p_size)) for _ in range(batch_size)]\n",
    "    locations = torch.from_numpy(np.array(zip(x_loc, y_loc), dtype=np.int32))\n",
    "    #locations = [(1,1), (1,5)]\n",
    "    \n",
    "    #patch size equvalient full inference\n",
    "    in_tensor_prime = Variable(torch.FloatTensor(batch_size, in_channels,  p_size+(k_size-1), p_size+(k_size-1)).fill_(1.0).cuda())\n",
    "    if conv:\n",
    "        conv_module(in_tensor_prime)\n",
    "    else:\n",
    "        max_pool_module(in_tensor_prime)\n",
    "        \n",
    "    torch.cuda.synchronize()\n",
    "    prev_time = time.time()\n",
    "    for i in range(10):\n",
    "        if conv:\n",
    "            conv_module(in_tensor_prime)\n",
    "        else:\n",
    "            max_pool_module(in_tensor_prime)\n",
    "        torch.cuda.synchronize()\n",
    "    torch.cuda.synchronize()\n",
    "    inc_best_time = (time.time()-prev_time)/10/batch_size\n",
    "    \n",
    "    #incremental inference\n",
    "    patch_location_tensor = locations.cuda()\n",
    "    if conv:\n",
    "        inc_convolution(in_tensor.data, weights.data, biases.data, out_ptch.data, patch_location_tensor, 1, 1, p_height=p_size, p_width=p_size, beta=1.0)\n",
    "    else:\n",
    "        inc_max_pool(in_tensor, out_ptch, patch_location_tensor,\n",
    "                    0, 2, 2, p_height=p_size, p_width=p_size)\n",
    "    torch.cuda.synchronize()\n",
    "\n",
    "    prev_time = time.time()\n",
    "    for i in range(10):\n",
    "        patch_location_tensor = locations.cuda()\n",
    "        if conv:\n",
    "            inc_convolution2(in_tensor.data, in_tensor.data[:,:,0:p_size,0:p_size], weights.data, biases.data, out_ptch.data, patch_location_tensor, 1, 1, p_height=p_size, p_width=p_size, beta=1.0)\n",
    "        else:\n",
    "            inc_max_pool(in_tensor, out_ptch, patch_location_tensor,\n",
    "                    0, 2, 2, p_height=p_size, p_width=p_size, version=1)\n",
    "\n",
    "        torch.cuda.synchronize()\n",
    "    torch.cuda.synchronize()\n",
    "    empr_time = (time.time()-prev_time)/10/batch_size\n",
    "    \n",
    "    #_, output_size = inc_conv_module(in_tensor, weights, biases, out_ptch, patch_location_tensor, 1, 1, k_size, p_height=p_size, p_width=p_size, version=4)\n",
    "    #print(output_size)\n",
    "    \n",
    "    theoretical_speedup.append(1.0*out_size*out_size/(p_size+k_size-1)**2)\n",
    "    best_achievable_speedup.append(full_time/inc_best_time)\n",
    "    emperical_speedup.append(full_time/empr_time)"
   ]
  },
  {
   "cell_type": "code",
   "execution_count": null,
   "metadata": {},
   "outputs": [],
   "source": [
    "plt.rcParams[\"figure.figsize\"] = (16,4)\n",
    "\n",
    "plt.xscale('log')\n",
    "plt.yscale('log')\n",
    "plt.plot(x_label, theoretical_speedup, label='Redundancy Ratio', marker='o')\n",
    "plt.plot(x_label, emperical_speedup, label='Incremental Inference', marker='o')\n",
    "plt.plot(x_label, best_achievable_speedup, label='Effective Full Inference', marker='o')\n",
    "plt.xticks(x_label, x_label)\n",
    "plt.legend()\n",
    "plt.grid()\n",
    "plt.show()"
   ]
  },
  {
   "cell_type": "code",
   "execution_count": 4,
   "metadata": {},
   "outputs": [
    {
     "data": {
      "text/plain": [
       "[]"
      ]
     },
     "execution_count": 4,
     "metadata": {},
     "output_type": "execute_result"
    }
   ],
   "source": [
    "zip(x_label, theoretical_speedup, best_achievable_speedup, emperical_speedup)"
   ]
  },
  {
   "cell_type": "code",
   "execution_count": 5,
   "metadata": {
    "scrolled": false
   },
   "outputs": [
    {
     "data": {
      "text/plain": [
       "[]"
      ]
     },
     "execution_count": 5,
     "metadata": {},
     "output_type": "execute_result"
    }
   ],
   "source": [
    "zip(x_label, theoretical_speedup, best_achievable_speedup, emperical_speedup)"
   ]
  },
  {
   "cell_type": "code",
   "execution_count": 6,
   "metadata": {},
   "outputs": [
    {
     "data": {
      "text/plain": [
       "0.0"
      ]
     },
     "execution_count": 6,
     "metadata": {},
     "output_type": "execute_result"
    }
   ],
   "source": [
    "np.sum(np.abs((temp-out_ptch).cpu().data.numpy().flatten()))"
   ]
  },
  {
   "cell_type": "code",
   "execution_count": 7,
   "metadata": {},
   "outputs": [],
   "source": [
    "#temp\n",
    "#out_ptch\n",
    "#temp-out_ptch\n",
    "#patch_location_tensor"
   ]
  },
  {
   "cell_type": "code",
   "execution_count": 19,
   "metadata": {},
   "outputs": [],
   "source": [
    "p_size = 4\n",
    "\n",
    "in_tensor = torch.FloatTensor(batch_size, in_channels,  in_size, in_size).random_(0, 10)\n",
    "weights = torch.FloatTensor(out_channels, in_channels, k_size, k_size).random_(0, 10)\n",
    "biases = torch.FloatTensor(out_channels).random_(0, 10)\n",
    "\n",
    "in_tensor, weights, biases = in_tensor.cuda(), weights.cuda(), biases.cuda()\n",
    "\n",
    "conv_module = torch.nn.Conv2d(in_channels, out_channels, k_size, padding=1, stride=1).cuda()\n",
    "conv_module.weight.data = weights\n",
    "conv_module.bias.data = biases\n",
    "conv_module = torch.nn.Sequential(conv_module, torch.nn.ReLU(inplace=True))\n",
    "\n",
    "max_pool_module = torch.nn.MaxPool2d(kernel_size=2, stride=2)\n",
    "\n",
    "in_tensor, weights, biases = Variable(in_tensor), Variable(weights), Variable(biases)"
   ]
  },
  {
   "cell_type": "code",
   "execution_count": 20,
   "metadata": {},
   "outputs": [],
   "source": [
    "#out_ptch = conv_module(in_tensor)\n",
    "out_ptch = max_pool_module(in_tensor)"
   ]
  },
  {
   "cell_type": "code",
   "execution_count": 21,
   "metadata": {},
   "outputs": [],
   "source": [
    "locations = torch.from_numpy(np.array([(0,0), (0,0)]*batch_size, dtype=np.int32))\n",
    "patch_location_tensor = locations.cuda()\n",
    "\n",
    "out_tensor = torch.FloatTensor(batch_size, in_channels, 3, 3).fill_(0).cuda()"
   ]
  },
  {
   "cell_type": "code",
   "execution_count": 22,
   "metadata": {},
   "outputs": [],
   "source": [
    "# inc_convolution2(in_tensor.data, in_tensor.data[:,:,0:p_size,0:p_size], weights.data, biases.data, out_tensor.data, patch_location_tensor,\n",
    "#                   224, 1, 1, p_height=p_size, p_width=p_size, beta=1.0)"
   ]
  },
  {
   "cell_type": "code",
   "execution_count": 23,
   "metadata": {},
   "outputs": [
    {
     "data": {
      "text/plain": [
       "(3, 3)"
      ]
     },
     "execution_count": 23,
     "metadata": {},
     "output_type": "execute_result"
    }
   ],
   "source": [
    "inc_max_pool2(in_tensor.data, in_tensor.data[:,:,0:p_size,0:p_size].clone(), out_tensor.data, patch_location_tensor,\n",
    "              112, 0, 2, 2, p_height=p_size, p_width=p_size, beta=1.0)"
   ]
  },
  {
   "cell_type": "code",
   "execution_count": 24,
   "metadata": {},
   "outputs": [],
   "source": [
    "temp1 = out_tensor[:,:,0:,:].cpu().data\n",
    "# temp1"
   ]
  },
  {
   "cell_type": "code",
   "execution_count": 25,
   "metadata": {},
   "outputs": [],
   "source": [
    "temp2 = out_ptch.cpu().data[:,:,0:3,0:3]\n",
    "# temp2"
   ]
  },
  {
   "cell_type": "code",
   "execution_count": 27,
   "metadata": {},
   "outputs": [
    {
     "data": {
      "text/plain": [
       "<matplotlib.colorbar.Colorbar at 0x7fb638219fd0>"
      ]
     },
     "execution_count": 27,
     "metadata": {},
     "output_type": "execute_result"
    },
    {
     "data": {
      "image/png": "[encoded data removed]",
      "text/plain": [
       "<matplotlib.figure.Figure at 0x7fb638399790>"
      ]
     },
     "metadata": {},
     "output_type": "display_data"
    }
   ],
   "source": [
    "x = (temp2-temp1).cpu().data.numpy()\n",
    "plt.imshow(x[0,0,:,:])\n",
    "plt.colorbar()"
   ]
  },
  {
   "cell_type": "code",
   "execution_count": 11,
   "metadata": {},
   "outputs": [
    {
     "data": {
      "text/plain": [
       "9951.0"
      ]
     },
     "execution_count": 11,
     "metadata": {},
     "output_type": "execute_result"
    }
   ],
   "source": [
    "np.sum(np.abs(x))"
   ]
  },
  {
   "cell_type": "code",
   "execution_count": 12,
   "metadata": {},
   "outputs": [
    {
     "data": {
      "text/plain": [
       "array([[ 0.,  0., -1.],\n",
       "       [ 0.,  0., -2.],\n",
       "       [ 0.,  0.,  2.]], dtype=float32)"
      ]
     },
     "execution_count": 12,
     "metadata": {},
     "output_type": "execute_result"
    }
   ],
   "source": [
    "x[1,0,:,:]"
   ]
  },
  {
   "cell_type": "code",
   "execution_count": 16,
   "metadata": {},
   "outputs": [
    {
     "data": {
      "text/plain": [
       "tensor([[[ 8.,  9.,  9.],\n",
       "         [ 6.,  8.,  9.],\n",
       "         [ 7.,  9.,  6.]],\n",
       "\n",
       "        [[ 9.,  8.,  9.],\n",
       "         [ 9.,  6.,  9.],\n",
       "         [ 9.,  7.,  5.]],\n",
       "\n",
       "        [[ 4.,  8.,  7.],\n",
       "         [ 5.,  9.,  7.],\n",
       "         [ 8.,  9.,  9.]],\n",
       "\n",
       "        ...,\n",
       "\n",
       "        [[ 9.,  3.,  7.],\n",
       "         [ 9.,  9.,  9.],\n",
       "         [ 6.,  9.,  8.]],\n",
       "\n",
       "        [[ 9.,  9.,  7.],\n",
       "         [ 9.,  9.,  9.],\n",
       "         [ 9.,  5.,  8.]],\n",
       "\n",
       "        [[ 9.,  9.,  2.],\n",
       "         [ 8.,  5.,  9.],\n",
       "         [ 9.,  9.,  9.]]])"
      ]
     },
     "execution_count": 16,
     "metadata": {},
     "output_type": "execute_result"
    }
   ],
   "source": [
    "temp1[1,]"
   ]
  },
  {
   "cell_type": "code",
   "execution_count": 17,
   "metadata": {},
   "outputs": [
    {
     "data": {
      "text/plain": [
       "tensor([[[ 8.,  9.,  8.],\n",
       "         [ 6.,  8.,  7.],\n",
       "         [ 7.,  9.,  8.]],\n",
       "\n",
       "        [[ 9.,  8.,  9.],\n",
       "         [ 9.,  6.,  5.],\n",
       "         [ 7.,  7.,  8.]],\n",
       "\n",
       "        [[ 4.,  8.,  8.],\n",
       "         [ 5.,  9.,  7.],\n",
       "         [ 9.,  5.,  9.]],\n",
       "\n",
       "        ...,\n",
       "\n",
       "        [[ 9.,  3.,  7.],\n",
       "         [ 9.,  9.,  9.],\n",
       "         [ 9.,  9.,  9.]],\n",
       "\n",
       "        [[ 9.,  9.,  4.],\n",
       "         [ 9.,  9.,  9.],\n",
       "         [ 9.,  3.,  8.]],\n",
       "\n",
       "        [[ 9.,  9.,  7.],\n",
       "         [ 8.,  5.,  6.],\n",
       "         [ 5.,  7.,  0.]]])"
      ]
     },
     "execution_count": 17,
     "metadata": {},
     "output_type": "execute_result"
    }
   ],
   "source": [
    "temp2[1]"
   ]
  },
  {
   "cell_type": "code",
   "execution_count": 15,
   "metadata": {},
   "outputs": [
    {
     "data": {
      "text/plain": [
       "tensor([[ 9.,  6.,  6.,  2.,  9.,  9.],\n",
       "        [ 6.,  0.,  2.,  8.,  5.,  7.],\n",
       "        [ 1.,  9.,  7.,  4.,  2.,  1.],\n",
       "        [ 4.,  2.,  6.,  8.,  9.,  7.],\n",
       "        [ 3.,  0.,  0.,  4.,  5.,  2.],\n",
       "        [ 1.,  7.,  5.,  9.,  2.,  6.]], device='cuda:0')"
      ]
     },
     "execution_count": 15,
     "metadata": {},
     "output_type": "execute_result"
    }
   ],
   "source": [
    "in_tensor.data[0,0,0:p_size+2,0:p_size+2]"
   ]
  },
  {
   "cell_type": "code",
   "execution_count": null,
   "metadata": {},
   "outputs": [],
   "source": []
  },
  {
   "cell_type": "code",
   "execution_count": null,
   "metadata": {},
   "outputs": [],
   "source": []
  },
  {
   "cell_type": "code",
   "execution_count": null,
   "metadata": {},
   "outputs": [],
   "source": []
  }
 ],
 "metadata": {
  "kernelspec": {
   "display_name": "Python 2",
   "language": "python",
   "name": "python2"
  },
  "language_info": {
   "codemirror_mode": {
    "name": "ipython",
    "version": 2
   },
   "file_extension": ".py",
   "mimetype": "text/x-python",
   "name": "python",
   "nbconvert_exporter": "python",
   "pygments_lexer": "ipython2",
   "version": "2.7.12"
  }
 },
 "nbformat": 4,
 "nbformat_minor": 2
}
