{
 "cells": [
  {
   "cell_type": "code",
   "execution_count": 1,
   "metadata": {},
   "outputs": [
    {
     "name": "stderr",
     "output_type": "stream",
     "text": [
      "/usr/local/lib/python2.7/dist-packages/h5py/__init__.py:36: FutureWarning: Conversion of the second argument of issubdtype from `float` to `np.floating` is deprecated. In future, it will be treated as `np.float64 == np.dtype(float).type`.\n",
      "  from ._conv import register_converters as _register_converters\n"
     ]
    }
   ],
   "source": [
    "import torch\n",
    "import time\n",
    "import gc\n",
    "import math\n",
    "from scipy import ndimage\n",
    "import numpy as np\n",
    "import matplotlib.pyplot as plt\n",
    "from torchvision.transforms import transforms\n",
    "from PIL import Image\n",
    "\n",
    "import os\n",
    "import sys\n",
    "sys.path.append('../')\n",
    "from cnn.commons import inc_inference_e2e, full_inference_e2e, adaptive_drilldown\n",
    "from cnn.vgg16 import VGG16\n",
    "from cnn.vgg16_inc_v1 import IncrementalVGG16V1\n",
    "\n",
    "image_file_path = \"../cnn/dog_resized.jpg\"\n",
    "interested_logit_index = 208"
   ]
  },
  {
   "cell_type": "code",
   "execution_count": 2,
   "metadata": {},
   "outputs": [],
   "source": [
    "torch.set_num_threads(8)\n",
    "os.environ['OMP_NUM_THREADS'] = '8'"
   ]
  },
  {
   "cell_type": "code",
   "execution_count": 3,
   "metadata": {},
   "outputs": [
    {
     "name": "stderr",
     "output_type": "stream",
     "text": [
      "../cnn/commons.py:108: UserWarning: volatile was removed and now has no effect. Use `with torch.no_grad():` instead.\n",
      "  orig_image = Variable(loader(orig_image).unsqueeze(0), volatile=True)\n"
     ]
    },
    {
     "name": "stdout",
     "output_type": "stream",
     "text": [
      "Full Inference Time: 12.1174302101\n"
     ]
    }
   ],
   "source": [
    "# torch.cuda.synchronize()\n",
    "prev_time = time.time()\n",
    "outputs_full = full_inference_e2e(VGG16, image_file_path, 4, 4, interested_logit_index,\n",
    "                                  batch_size=128, cuda=True)\n",
    "torch.cuda.synchronize()\n",
    "full_inference_time = time.time() - prev_time\n",
    "print(\"Full Inference Time: \" + str(full_inference_time))"
   ]
  },
  {
   "cell_type": "code",
   "execution_count": 4,
   "metadata": {},
   "outputs": [
    {
     "data": {
      "text/plain": [
       "<matplotlib.colorbar.Colorbar at 0x7f0d58723250>"
      ]
     },
     "execution_count": 4,
     "metadata": {},
     "output_type": "execute_result"
    },
    {
     "data": {
      "image/png": "[encoded data removed]",
      "text/plain": [
       "<matplotlib.figure.Figure at 0x7f0dd4435310>"
      ]
     },
     "metadata": {},
     "output_type": "display_data"
    }
   ],
   "source": [
    "x = outputs_full\n",
    "xmax, xmin = x.max(), x.min()\n",
    "x = 1 - (x - xmin)/(xmax - xmin)\n",
    "\n",
    "outputs_full_final = x\n",
    "np.savetxt('temp', outputs_full_final)\n",
    "\n",
    "plt.imshow(x, cmap=plt.cm.rainbow, interpolation='none')\n",
    "plt.colorbar()"
   ]
  },
  {
   "cell_type": "code",
   "execution_count": 5,
   "metadata": {},
   "outputs": [],
   "source": [
    "gc.collect()\n",
    "torch.cuda.empty_cache()"
   ]
  },
  {
   "cell_type": "code",
   "execution_count": 6,
   "metadata": {
    "scrolled": false
   },
   "outputs": [],
   "source": [
    "def inc_inference(batch_size, patch_size=4, stride=1, cuda=True):\n",
    "    logit_index = 208\n",
    "    \n",
    "    torch.cuda.synchronize()\n",
    "    image_patch = torch.FloatTensor(3, patch_size, patch_size).fill_(0)\n",
    "    if cuda:\n",
    "        image_patch = image_patch.cuda()\n",
    "    \n",
    "    loader = transforms.Compose([transforms.Resize([224, 224]), transforms.ToTensor()])\n",
    "    image = Image.open(image_file_path)\n",
    "    image = loader(image)\n",
    "    image = image.unsqueeze(0)\n",
    "    \n",
    "    inc_model = IncrementalVGG16V1(image, cuda)\n",
    "    output_width = int(math.ceil((224.0 - patch_size) / stride))\n",
    "    \n",
    "    locations = []\n",
    "    for i in range(output_width):\n",
    "        for j in range(output_width):\n",
    "            locations.append((i*stride,j*stride))\n",
    "    \n",
    "    outputs_inc = np.zeros(shape=(output_width, output_width))\n",
    "    for i in range(0, len(locations), batch_size):\n",
    "        temp_locations = locations[i:i+batch_size]\n",
    "        result = inc_model.forward(image, image_patch, temp_locations, patch_size)\n",
    "        \n",
    "        for i, (x,y) in enumerate(temp_locations):\n",
    "            outputs_inc[x/stride,y/stride] = result.cpu().data.numpy()[i, logit_index]\n",
    "    \n",
    "    torch.cuda.synchronize()\n",
    "    x = outputs_inc\n",
    "    \n",
    "    xmax, xmin = x.max(), x.min()\n",
    "    x = 1 - (x - xmin)/(xmax - xmin)\n",
    "    return x"
   ]
  },
  {
   "cell_type": "code",
   "execution_count": 7,
   "metadata": {
    "scrolled": false
   },
   "outputs": [
    {
     "name": "stderr",
     "output_type": "stream",
     "text": [
      "../cnn/vgg16_inc_v1.py:33: UserWarning: volatile was removed and now has no effect. Use `with torch.no_grad():` instead.\n",
      "  full_model.forward_materialized(Variable(in_tensor, volatile=True))\n",
      "../cnn/vgg16_inc_v1.py:131: UserWarning: volatile was removed and now has no effect. Use `with torch.no_grad():` instead.\n",
      "  patches = layer(Variable(x, volatile=True)).data\n",
      "../cnn/vgg16_inc_v1.py:140: UserWarning: volatile was removed and now has no effect. Use `with torch.no_grad():` instead.\n",
      "  x = Variable(output, volatile=True)\n"
     ]
    },
    {
     "name": "stdout",
     "output_type": "stream",
     "text": [
      "Inference Time: 4.84682393074 MSE: nan\n"
     ]
    },
    {
     "name": "stderr",
     "output_type": "stream",
     "text": [
      "/usr/local/lib/python2.7/dist-packages/ipykernel_launcher.py:34: RuntimeWarning: invalid value encountered in divide\n"
     ]
    },
    {
     "data": {
      "image/png": "[encoded data removed]",
      "text/plain": [
       "<matplotlib.figure.Figure at 0x7f0d58bd2cd0>"
      ]
     },
     "metadata": {},
     "output_type": "display_data"
    }
   ],
   "source": [
    "outputs_full_final = np.loadtxt('temp')\n",
    "\n",
    "prev_time = time.time()\n",
    "outputs_inc_final = inc_inference(128, patch_size=4, stride=4, cuda=True)\n",
    "inc_inference_time = time.time()-prev_time\n",
    "mse = ((outputs_inc_final - outputs_full_final) ** 2).mean(axis=None)\n",
    "\n",
    "plt.imshow(outputs_inc_final, cmap=plt.cm.rainbow, interpolation='none')\n",
    "plt.colorbar()\n",
    "print(\"Inference Time: \" + str(inc_inference_time) + \" MSE: \" + str(mse))\n",
    "plt.show()"
   ]
  },
  {
   "cell_type": "code",
   "execution_count": 8,
   "metadata": {},
   "outputs": [
    {
     "data": {
      "text/plain": [
       "<matplotlib.colorbar.Colorbar at 0x7f0d58547390>"
      ]
     },
     "execution_count": 8,
     "metadata": {},
     "output_type": "execute_result"
    },
    {
     "data": {
      "image/png": "[encoded data removed]",
      "text/plain": [
       "<matplotlib.figure.Figure at 0x7f0dd96c1ed0>"
      ]
     },
     "metadata": {},
     "output_type": "display_data"
    }
   ],
   "source": [
    "temp = np.abs(np.around(outputs_full_final, decimals=3) - np.around(outputs_inc_final, decimals=3))\n",
    "plt.imshow(temp, cmap=plt.cm.rainbow, interpolation='none')\n",
    "plt.colorbar()"
   ]
  },
  {
   "cell_type": "code",
   "execution_count": null,
   "metadata": {},
   "outputs": [],
   "source": []
  }
 ],
 "metadata": {
  "kernelspec": {
   "display_name": "Python 2",
   "language": "python",
   "name": "python2"
  },
  "language_info": {
   "codemirror_mode": {
    "name": "ipython",
    "version": 2
   },
   "file_extension": ".py",
   "mimetype": "text/x-python",
   "name": "python",
   "nbconvert_exporter": "python",
   "pygments_lexer": "ipython2",
   "version": "2.7.12"
  }
 },
 "nbformat": 4,
 "nbformat_minor": 2
}
