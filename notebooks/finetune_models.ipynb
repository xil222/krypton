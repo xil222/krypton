{
 "cells": [
  {
   "cell_type": "code",
   "execution_count": 1,
   "metadata": {},
   "outputs": [
    {
     "name": "stderr",
     "output_type": "stream",
     "text": [
      "/usr/local/lib/python2.7/dist-packages/h5py/__init__.py:36: FutureWarning: Conversion of the second argument of issubdtype from `float` to `np.floating` is deprecated. In future, it will be treated as `np.float64 == np.dtype(float).type`.\n",
      "  from ._conv import register_converters as _register_converters\n"
     ]
    }
   ],
   "source": [
    "from __future__ import print_function, division\n",
    "\n",
    "import torch\n",
    "import torch.nn as nn\n",
    "import torch.optim as optim\n",
    "from torch.optim import lr_scheduler\n",
    "import numpy as np\n",
    "import torchvision\n",
    "from torchvision import datasets, models, transforms\n",
    "import matplotlib.pyplot as plt\n",
    "import time\n",
    "import os\n",
    "import copy\n",
    "import h5py\n",
    "import sys\n",
    "\n",
    "sys.path.append('../')\n",
    "\n",
    "from cnn.finetune_commons import show_images, ft_train_model, visualize_model\n",
    "from cnn.commons import save_dict_to_hdf5\n",
    "\n",
    "plt.ion()   # interactive mode"
   ]
  },
  {
   "cell_type": "code",
   "execution_count": 2,
   "metadata": {},
   "outputs": [],
   "source": [
    "torch.manual_seed(78)\n",
    "np.random.seed(78)\n",
    "\n",
    "data_dir = '../data/chest_xray'\n",
    "# data_dir = '../data/rsna-bone-age'\n",
    "\n",
    "n_labels = 2"
   ]
  },
  {
   "cell_type": "code",
   "execution_count": 3,
   "metadata": {},
   "outputs": [],
   "source": [
    "data_transforms = {\n",
    "    'train': transforms.Compose([\n",
    "        transforms.Resize(224),\n",
    "        transforms.CenterCrop(224),\n",
    "        transforms.ToTensor(),\n",
    "        #transforms.Normalize([0.485, 0.456, 0.406], [0.229, 0.224, 0.225])\n",
    "        #bone\n",
    "        #transforms.Normalize([0.18805075, 0.18805075, 0.18805075], [0.1892409, 0.1892409, 0.1892409])\n",
    "        \n",
    "        #chest\n",
    "        transforms.Normalize([0.5709945, 0.5709945, 0.5709945], [0.1767184, 0.1767184, 0.1767184])\n",
    "    ]),\n",
    "    'test': transforms.Compose([\n",
    "        transforms.Resize(224),\n",
    "        transforms.CenterCrop(224),\n",
    "        transforms.ToTensor(),\n",
    "        #transforms.Normalize([0.485, 0.456, 0.406], [0.229, 0.224, 0.225])\n",
    "        #bone\n",
    "        #transforms.Normalize([0.18805075, 0.18805075, 0.18805075], [0.1892409, 0.1892409, 0.1892409])\n",
    "        \n",
    "        #chest\n",
    "        transforms.Normalize([0.5709945, 0.5709945, 0.5709945], [0.1767184, 0.1767184, 0.1767184])        \n",
    "    ]),\n",
    "}\n",
    "\n",
    "image_datasets = {x: datasets.ImageFolder(os.path.join(data_dir, x),\n",
    "                                          data_transforms[x]) for x in ['train', 'test']}\n",
    "dataloaders = {x: torch.utils.data.DataLoader(image_datasets[x], batch_size=32,\n",
    "                        shuffle=True, num_workers=4) for x in ['train', 'test']}"
   ]
  },
  {
   "cell_type": "code",
   "execution_count": 4,
   "metadata": {},
   "outputs": [],
   "source": [
    "dataset_sizes = {x: len(image_datasets[x]) for x in ['train', 'test']}\n",
    "class_names = image_datasets['train'].classes\n",
    "device = torch.device(\"cuda:0\" if torch.cuda.is_available() else \"cpu\")"
   ]
  },
  {
   "cell_type": "markdown",
   "metadata": {},
   "source": [
    "### VGG16"
   ]
  },
  {
   "cell_type": "code",
   "execution_count": 5,
   "metadata": {},
   "outputs": [],
   "source": [
    "model_ft = models.vgg16(pretrained=True)\n",
    "model_ft = model_ft.eval()\n",
    "for param in model_ft.features.parameters():\n",
    "    param.requires_grad = False\n",
    "\n",
    "num_ftrs = model_ft.classifier[-1].in_features\n",
    "temp = list(model_ft.classifier.children())[:-1]\n",
    "temp.append(nn.Linear(num_ftrs, n_labels))\n",
    "model_ft.classifier = nn.Sequential(*temp)\n",
    "\n",
    "model_ft = model_ft.to(device)\n",
    "\n",
    "criterion = nn.CrossEntropyLoss()\n",
    "\n",
    "optimizer_ft = optim.Adam(model_ft.classifier.parameters(), lr=1e-4, weight_decay=1e-2)"
   ]
  },
  {
   "cell_type": "code",
   "execution_count": null,
   "metadata": {},
   "outputs": [
    {
     "name": "stdout",
     "output_type": "stream",
     "text": [
      "Epoch 0/49\n",
      "----------\n",
      "train Loss: 0.1315 Acc: 0.9471\n",
      "test Loss: 0.6676 Acc: 0.8141\n",
      "()\n",
      "Epoch 1/49\n",
      "----------\n",
      "train Loss: 0.0763 Acc: 0.9731\n",
      "test Loss: 1.0710 Acc: 0.7644\n",
      "()\n",
      "Epoch 2/49\n",
      "----------\n",
      "train Loss: 0.0670 Acc: 0.9763\n",
      "test Loss: 0.7573 Acc: 0.7933\n",
      "()\n",
      "Epoch 3/49\n",
      "----------\n",
      "train Loss: 0.0426 Acc: 0.9841\n",
      "test Loss: 0.7486 Acc: 0.8285\n",
      "()\n",
      "Epoch 4/49\n",
      "----------\n",
      "train Loss: 0.0373 Acc: 0.9870\n",
      "test Loss: 0.9034 Acc: 0.8141\n",
      "()\n",
      "Epoch 5/49\n",
      "----------\n",
      "train Loss: 0.0447 Acc: 0.9830\n",
      "test Loss: 0.4940 Acc: 0.8814\n",
      "()\n",
      "Epoch 6/49\n",
      "----------\n",
      "train Loss: 0.0300 Acc: 0.9878\n",
      "test Loss: 1.0477 Acc: 0.7772\n",
      "()\n",
      "Epoch 7/49\n",
      "----------\n",
      "train Loss: 0.0344 Acc: 0.9870\n",
      "test Loss: 1.3089 Acc: 0.7660\n",
      "()\n",
      "Epoch 8/49\n",
      "----------\n",
      "train Loss: 0.0293 Acc: 0.9895\n",
      "test Loss: 0.9027 Acc: 0.8093\n",
      "()\n",
      "Epoch 9/49\n",
      "----------\n"
     ]
    }
   ],
   "source": [
    "model_ft = ft_train_model(model_ft, criterion, optimizer_ft, dataloaders, device,\n",
    "                          dataset_sizes, class_names, num_epochs=50)"
   ]
  },
  {
   "cell_type": "code",
   "execution_count": null,
   "metadata": {},
   "outputs": [],
   "source": []
  }
 ],
 "metadata": {
  "kernelspec": {
   "display_name": "Python 2",
   "language": "python",
   "name": "python2"
  },
  "language_info": {
   "codemirror_mode": {
    "name": "ipython",
    "version": 2
   },
   "file_extension": ".py",
   "mimetype": "text/x-python",
   "name": "python",
   "nbconvert_exporter": "python",
   "pygments_lexer": "ipython2",
   "version": "2.7.12"
  }
 },
 "nbformat": 4,
 "nbformat_minor": 2
}
