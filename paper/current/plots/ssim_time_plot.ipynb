{
 "cells": [
  {
   "cell_type": "code",
   "execution_count": 1,
   "metadata": {},
   "outputs": [
    {
     "name": "stderr",
     "output_type": "stream",
     "text": [
      "/usr/local/lib/python2.7/dist-packages/h5py/__init__.py:36: FutureWarning: Conversion of the second argument of issubdtype from `float` to `np.floating` is deprecated. In future, it will be treated as `np.float64 == np.dtype(float).type`.\n",
      "  from ._conv import register_converters as _register_converters\n"
     ]
    }
   ],
   "source": [
    "from __future__ import print_function, division\n",
    "\n",
    "import torch\n",
    "import torch.nn as nn\n",
    "import torch.optim as optim\n",
    "from torch.optim import lr_scheduler\n",
    "import numpy as np\n",
    "import torchvision\n",
    "from torchvision import datasets, models, transforms\n",
    "from skimage.measure import compare_ssim as ssim\n",
    "import matplotlib.pyplot as plt\n",
    "import time\n",
    "import os\n",
    "import copy\n",
    "import h5py\n",
    "import sys\n",
    "import torch\n",
    "from PIL import Image\n",
    "import gc\n",
    "\n",
    "sys.path.append('../../../code')\n",
    "\n",
    "from python.finetune_commons import show_images, ft_train_model, visualize_model\n",
    "from python.commons import load_dict_from_hdf5, save_dict_to_hdf5, inc_inference_e2e, full_inference_e2e, adaptive_drilldown, generate_heatmap\n",
    "from python.vgg16 import VGG16\n",
    "from python.resnet18 import ResNet18\n",
    "\n",
    "%matplotlib inline"
   ]
  },
  {
   "cell_type": "code",
   "execution_count": 2,
   "metadata": {},
   "outputs": [],
   "source": [
    "image_size = 224\n",
    "\n",
    "def inc_inference(model, image_file_path, beta, patch_size=4, stride=1,\n",
    "                  adaptive=False, weights_data=None):\n",
    "    if gpu:\n",
    "        torch.cuda.synchronize()\n",
    "    \n",
    "    if not adaptive:\n",
    "        with torch.no_grad():\n",
    "            x = inc_inference_e2e(model, image_file_path, patch_size, stride,\n",
    "                                  batch_size=128, beta=beta, gpu=gpu, version='v1',\n",
    "                                  weights_data=weights_data, n_labels=2, c=0.0)\n",
    "    \n",
    "    if gpu:\n",
    "        torch.cuda.synchronize()\n",
    "\n",
    "    return x\n",
    "\n",
    "loader = transforms.Compose([transforms.Resize([image_size, image_size]), transforms.ToTensor()])"
   ]
  },
  {
   "cell_type": "code",
   "execution_count": 3,
   "metadata": {},
   "outputs": [],
   "source": [
    "gpu = True\n",
    "image_size = 224\n",
    "\n",
    "file_paths = [\n",
    "    '../../../data/oct/DRUSEN_NORMAL/validation/DRUSEN/DRUSEN-5333808-1.jpeg',\n",
    "#     '../../../data/oct/DRUSEN_NORMAL/validation/DRUSEN/DRUSEN-1020679-5.jpeg',\n",
    "#     '../../../data/oct/DRUSEN_NORMAL/validation/DRUSEN/DRUSEN-1112835-10.jpeg',\n",
    "#     '../../../data/oct/DRUSEN_NORMAL/validation/DRUSEN/DRUSEN-1130960-76.jpeg',\n",
    "#     '../../../data/oct/DRUSEN_NORMAL/validation/DRUSEN/DRUSEN-1169820-1.jpeg',\n",
    "#     '../../../data/oct/DRUSEN_NORMAL/validation/DRUSEN/DRUSEN-1146923-28.jpeg',\n",
    "#     '../../../data/oct/DRUSEN_NORMAL/validation/NORMAL/NORMAL-1007507-1.jpeg',\n",
    "#     '../../../data/oct/DRUSEN_NORMAL/validation/NORMAL/NORMAL-1007507-1.jpeg',\n",
    "#     '../../../data/oct/DRUSEN_NORMAL/validation/NORMAL/NORMAL-1007507-1.jpeg',\n",
    "#     '../../../data/oct/DRUSEN_NORMAL/validation/NORMAL/NORMAL-1001772-3.jpeg'    \n",
    "]"
   ]
  },
  {
   "cell_type": "code",
   "execution_count": 4,
   "metadata": {
    "scrolled": false
   },
   "outputs": [
    {
     "ename": "RuntimeError",
     "evalue": "cuda runtime error (77) : an illegal memory access was encountered at /pytorch/aten/src/THC/generic/THCTensorCopy.c:20",
     "output_type": "error",
     "traceback": [
      "\u001b[0;31m\u001b[0m",
      "\u001b[0;31mRuntimeError\u001b[0mTraceback (most recent call last)",
      "\u001b[0;32m<ipython-input-4-d1e127a81373>\u001b[0m in \u001b[0;36m<module>\u001b[0;34m()\u001b[0m\n\u001b[1;32m     35\u001b[0m             \u001b[0mprev_time\u001b[0m \u001b[0;34m=\u001b[0m \u001b[0mtime\u001b[0m\u001b[0;34m.\u001b[0m\u001b[0mtime\u001b[0m\u001b[0;34m(\u001b[0m\u001b[0;34m)\u001b[0m\u001b[0;34m\u001b[0m\u001b[0m\n\u001b[1;32m     36\u001b[0m             x = inc_inference(model, file_path, beta, patch_size=patch_size, stride=stride,\n\u001b[0;32m---> 37\u001b[0;31m                              weights_data=weights_data)\n\u001b[0m\u001b[1;32m     38\u001b[0m             \u001b[0minc_inference_time\u001b[0m \u001b[0;34m=\u001b[0m \u001b[0mtime\u001b[0m\u001b[0;34m.\u001b[0m\u001b[0mtime\u001b[0m\u001b[0;34m(\u001b[0m\u001b[0;34m)\u001b[0m\u001b[0;34m-\u001b[0m\u001b[0mprev_time\u001b[0m\u001b[0;34m\u001b[0m\u001b[0m\n\u001b[1;32m     39\u001b[0m             \u001b[0mhm\u001b[0m \u001b[0;34m=\u001b[0m \u001b[0mgenerate_heatmap\u001b[0m\u001b[0;34m(\u001b[0m\u001b[0mfile_path\u001b[0m\u001b[0;34m,\u001b[0m \u001b[0mx\u001b[0m\u001b[0;34m,\u001b[0m \u001b[0mshow\u001b[0m\u001b[0;34m=\u001b[0m\u001b[0mTrue\u001b[0m\u001b[0;34m,\u001b[0m \u001b[0mlabel\u001b[0m\u001b[0;34m=\u001b[0m\u001b[0;34m\"\"\u001b[0m\u001b[0;34m)\u001b[0m\u001b[0;34m\u001b[0m\u001b[0m\n",
      "\u001b[0;32m<ipython-input-2-228ef5d1763f>\u001b[0m in \u001b[0;36minc_inference\u001b[0;34m(model, image_file_path, beta, patch_size, stride, adaptive, weights_data)\u001b[0m\n\u001b[1;32m     10\u001b[0m             x = inc_inference_e2e(model, image_file_path, patch_size, stride,\n\u001b[1;32m     11\u001b[0m                                   \u001b[0mbatch_size\u001b[0m\u001b[0;34m=\u001b[0m\u001b[0;36m128\u001b[0m\u001b[0;34m,\u001b[0m \u001b[0mbeta\u001b[0m\u001b[0;34m=\u001b[0m\u001b[0mbeta\u001b[0m\u001b[0;34m,\u001b[0m \u001b[0mgpu\u001b[0m\u001b[0;34m=\u001b[0m\u001b[0mgpu\u001b[0m\u001b[0;34m,\u001b[0m \u001b[0mversion\u001b[0m\u001b[0;34m=\u001b[0m\u001b[0;34m'v1'\u001b[0m\u001b[0;34m,\u001b[0m\u001b[0;34m\u001b[0m\u001b[0m\n\u001b[0;32m---> 12\u001b[0;31m                                   weights_data=weights_data, n_labels=2, c=0.0)\n\u001b[0m\u001b[1;32m     13\u001b[0m \u001b[0;34m\u001b[0m\u001b[0m\n\u001b[1;32m     14\u001b[0m     \u001b[0;32mif\u001b[0m \u001b[0mgpu\u001b[0m\u001b[0;34m:\u001b[0m\u001b[0;34m\u001b[0m\u001b[0m\n",
      "\u001b[0;32m/home/snakanda/Work/Krypton/code/python/commons.pyc\u001b[0m in \u001b[0;36minc_inference_e2e\u001b[0;34m(model, file_path, patch_size, stride, batch_size, beta, x0, y0, image_size, x_size, y_size, gpu, version, n_labels, weights_data, loader, c)\u001b[0m\n\u001b[1;32m    137\u001b[0m \u001b[0;34m\u001b[0m\u001b[0m\n\u001b[1;32m    138\u001b[0m         \u001b[0;32mif\u001b[0m \u001b[0mversion\u001b[0m \u001b[0;34m==\u001b[0m \u001b[0;34m'v1'\u001b[0m\u001b[0;34m:\u001b[0m\u001b[0;34m\u001b[0m\u001b[0m\n\u001b[0;32m--> 139\u001b[0;31m             \u001b[0mlogits\u001b[0m \u001b[0;34m=\u001b[0m \u001b[0minc_model\u001b[0m\u001b[0;34m.\u001b[0m\u001b[0mforward_gpu\u001b[0m\u001b[0;34m(\u001b[0m\u001b[0mimage_patches\u001b[0m\u001b[0;34m,\u001b[0m \u001b[0mlocations\u001b[0m\u001b[0;34m,\u001b[0m \u001b[0mp_height\u001b[0m\u001b[0;34m=\u001b[0m\u001b[0mpatch_size\u001b[0m\u001b[0;34m,\u001b[0m \u001b[0mp_width\u001b[0m\u001b[0;34m=\u001b[0m\u001b[0mpatch_size\u001b[0m\u001b[0;34m)\u001b[0m\u001b[0;34m\u001b[0m\u001b[0m\n\u001b[0m\u001b[1;32m    140\u001b[0m         \u001b[0;32melse\u001b[0m\u001b[0;34m:\u001b[0m\u001b[0;34m\u001b[0m\u001b[0m\n\u001b[1;32m    141\u001b[0m             \u001b[0mlogits\u001b[0m \u001b[0;34m=\u001b[0m \u001b[0minc_model\u001b[0m\u001b[0;34m.\u001b[0m\u001b[0mforward_pytorch\u001b[0m\u001b[0;34m(\u001b[0m\u001b[0mimage_patches\u001b[0m\u001b[0;34m,\u001b[0m \u001b[0mlocations\u001b[0m\u001b[0;34m,\u001b[0m \u001b[0mp_height\u001b[0m\u001b[0;34m=\u001b[0m\u001b[0mpatch_size\u001b[0m\u001b[0;34m,\u001b[0m \u001b[0mp_width\u001b[0m\u001b[0;34m=\u001b[0m\u001b[0mpatch_size\u001b[0m\u001b[0;34m)\u001b[0m\u001b[0;34m\u001b[0m\u001b[0m\n",
      "\u001b[0;32m/home/snakanda/Work/Krypton/code/python/vgg16.pyc\u001b[0m in \u001b[0;36mforward_gpu\u001b[0;34m(self, x, locations, p_height, p_width, beta)\u001b[0m\n\u001b[1;32m    171\u001b[0m \u001b[0;34m\u001b[0m\u001b[0m\n\u001b[1;32m    172\u001b[0m         \u001b[0;31m# conv1_2\u001b[0m\u001b[0;34m\u001b[0m\u001b[0;34m\u001b[0m\u001b[0m\n\u001b[0;32m--> 173\u001b[0;31m         \u001b[0mout\u001b[0m \u001b[0;34m=\u001b[0m \u001b[0mself\u001b[0m\u001b[0;34m.\u001b[0m\u001b[0m__get_tensor\u001b[0m\u001b[0;34m(\u001b[0m\u001b[0;34m'conv1_2'\u001b[0m\u001b[0;34m,\u001b[0m \u001b[0mbatch_size\u001b[0m\u001b[0;34m,\u001b[0m \u001b[0;36m64\u001b[0m\u001b[0;34m,\u001b[0m \u001b[0mp_height\u001b[0m\u001b[0;34m,\u001b[0m \u001b[0mp_width\u001b[0m\u001b[0;34m,\u001b[0m \u001b[0;36m3\u001b[0m\u001b[0;34m,\u001b[0m \u001b[0;36m1\u001b[0m\u001b[0;34m,\u001b[0m \u001b[0;36m224\u001b[0m\u001b[0;34m,\u001b[0m \u001b[0;36m224\u001b[0m\u001b[0;34m)\u001b[0m\u001b[0;34m\u001b[0m\u001b[0m\n\u001b[0m\u001b[1;32m    174\u001b[0m         p_height, p_width = inc_convolution(self.conv1_1.data, x, self.conv1_2_op[0].weight.data, self.conv1_2_op[0].bias.data,\n\u001b[1;32m    175\u001b[0m                                             out, locations, 1, 1, 1, 1, p_height, p_width, beta)\n",
      "\u001b[0;32m/home/snakanda/Work/Krypton/code/python/vgg16.pyc\u001b[0m in \u001b[0;36m__get_tensor\u001b[0;34m(self, name, batch_size, channels, p_height, p_width, k_size, stride, in_size, out_size, truncate)\u001b[0m\n\u001b[1;32m    473\u001b[0m             \u001b[0mtensor\u001b[0m \u001b[0;34m=\u001b[0m \u001b[0mtorch\u001b[0m\u001b[0;34m.\u001b[0m\u001b[0mFloatTensor\u001b[0m\u001b[0;34m(\u001b[0m\u001b[0mbatch_size\u001b[0m\u001b[0;34m,\u001b[0m \u001b[0mchannels\u001b[0m\u001b[0;34m,\u001b[0m \u001b[0;34m*\u001b[0m\u001b[0mself\u001b[0m\u001b[0;34m.\u001b[0m\u001b[0m__get_output_shape\u001b[0m\u001b[0;34m(\u001b[0m\u001b[0mp_height\u001b[0m\u001b[0;34m,\u001b[0m \u001b[0mp_width\u001b[0m\u001b[0;34m,\u001b[0m \u001b[0mk_size\u001b[0m\u001b[0;34m,\u001b[0m \u001b[0mstride\u001b[0m\u001b[0;34m,\u001b[0m \u001b[0min_size\u001b[0m\u001b[0;34m,\u001b[0m \u001b[0mout_size\u001b[0m\u001b[0;34m,\u001b[0m \u001b[0mtruncate\u001b[0m\u001b[0;34m)\u001b[0m\u001b[0;34m)\u001b[0m\u001b[0;34m\u001b[0m\u001b[0m\n\u001b[1;32m    474\u001b[0m             \u001b[0;32mif\u001b[0m \u001b[0mself\u001b[0m\u001b[0;34m.\u001b[0m\u001b[0mgpu\u001b[0m\u001b[0;34m:\u001b[0m\u001b[0;34m\u001b[0m\u001b[0m\n\u001b[0;32m--> 475\u001b[0;31m                 \u001b[0mtensor\u001b[0m \u001b[0;34m=\u001b[0m \u001b[0mtensor\u001b[0m\u001b[0;34m.\u001b[0m\u001b[0mcuda\u001b[0m\u001b[0;34m(\u001b[0m\u001b[0;34m)\u001b[0m\u001b[0;34m\u001b[0m\u001b[0m\n\u001b[0m\u001b[1;32m    476\u001b[0m             \u001b[0mself\u001b[0m\u001b[0;34m.\u001b[0m\u001b[0mtensor_cache\u001b[0m\u001b[0;34m[\u001b[0m\u001b[0mname\u001b[0m\u001b[0;34m]\u001b[0m \u001b[0;34m=\u001b[0m \u001b[0mtensor\u001b[0m\u001b[0;34m\u001b[0m\u001b[0m\n\u001b[1;32m    477\u001b[0m             \u001b[0;32mreturn\u001b[0m \u001b[0mtensor\u001b[0m\u001b[0;34m\u001b[0m\u001b[0m\n",
      "\u001b[0;31mRuntimeError\u001b[0m: cuda runtime error (77) : an illegal memory access was encountered at /pytorch/aten/src/THC/generic/THCTensorCopy.c:20"
     ]
    },
    {
     "data": {
      "text/plain": [
       "<Figure size 648x360 with 0 Axes>"
      ]
     },
     "metadata": {},
     "output_type": "display_data"
    }
   ],
   "source": [
    "patch_size = 32\n",
    "stride = 4\n",
    "\n",
    "taus = [1.0, 0.9, 0.8, 0.7, 0.6, 0.5]\n",
    "\n",
    "plt.figure(figsize=(9,5))\n",
    "\n",
    "i = 1\n",
    "\n",
    "for model,model_name,weight_file in zip([VGG16, ResNet18], ['VGG16', 'ResNet18', 'ResNet18'],\n",
    "    ['../../../code/python/vgg16_weights_ptch.h5', '../../../code/python/resnet18_weights_ptch.h5',\n",
    "        '../../../code/python/resnet18_weights_ptch.h5']):\n",
    "    \n",
    "    weights_data = load_dict_from_hdf5(weight_file, gpu=gpu)\n",
    "    temp_weights_data = load_dict_from_hdf5('../../../exps/oct_drusen_'+model_name.lower()+'_ptch.h5', gpu=gpu)\n",
    "    \n",
    "    if model_name == 'VGG16':\n",
    "        weights_data['fc8_W:0'] = temp_weights_data['fc8_W:0']\n",
    "        weights_data['fc8_b:0'] = temp_weights_data['fc8_b:0']\n",
    "    else:\n",
    "        weights_data['fc:w'] = temp_weights_data['fc:w']\n",
    "        weights_data['fc:b'] = temp_weights_data['fc:b']\n",
    "\n",
    "    x_vals = []\n",
    "    y_ssim = []\n",
    "    y_time = []\n",
    "    \n",
    "    for file_path in file_paths:\n",
    "        \n",
    "        x = full_inference_e2e(model, file_path, patch_size, stride, batch_size=128,\n",
    "                               gpu=gpu, weights_data=weights_data)\n",
    "        orig_hm = generate_heatmap(file_path, x, show=False, label=\"\")\n",
    "        \n",
    "        for beta in taus:\n",
    "            prev_time = time.time()\n",
    "            x = inc_inference(model, file_path, beta, patch_size=patch_size, stride=stride,\n",
    "                             weights_data=weights_data)\n",
    "            inc_inference_time = time.time()-prev_time\n",
    "            hm = generate_heatmap(file_path, x, show=True, label=\"\")\n",
    "            \n",
    "            ssim_value = ssim(orig_hm, hm, data_range=255, multichannel=True, win_size=3)\n",
    "            x_vals.append(beta)\n",
    "            y_ssim.append(ssim_value)\n",
    "            y_time.append(inc_inference_time)\n",
    "            \n",
    "        gc.collect()\n",
    "        torch.cuda.empty_cache()\n",
    "            \n",
    "\n",
    "    ax = plt.subplot(2,3,i)\n",
    "    plt.scatter(x_vals, y_ssim)\n",
    "    ax.set_title(model_name)\n",
    "    \n",
    "    plt.grid()\n",
    "    plt.xticks(taus, taus)\n",
    "\n",
    "    if i == 1:\n",
    "        plt.ylabel('SSIM')\n",
    "        \n",
    "    ax = plt.subplot(2,3,i+3)\n",
    "    plt.scatter(x_vals, y_time)\n",
    "    \n",
    "    plt.grid()\n",
    "    plt.xlabel(r'Projective Field Threshold $(\\tau)$')\n",
    "    plt.xticks(taus, taus)\n",
    "\n",
    "    if i == 1:\n",
    "        plt.ylabel('Time (s)')\n",
    "\n",
    "\n",
    "    i = i + 1\n",
    "    \n",
    "plt.subplots_adjust(top=0.8)\n",
    "plt.savefig('../images/ssim_tau.pdf', bbox_inches='tight')\n",
    "plt.show()    "
   ]
  },
  {
   "cell_type": "code",
   "execution_count": null,
   "metadata": {},
   "outputs": [],
   "source": []
  },
  {
   "cell_type": "code",
   "execution_count": null,
   "metadata": {},
   "outputs": [],
   "source": []
  }
 ],
 "metadata": {
  "kernelspec": {
   "display_name": "Python 2",
   "language": "python",
   "name": "python2"
  },
  "language_info": {
   "codemirror_mode": {
    "name": "ipython",
    "version": 2
   },
   "file_extension": ".py",
   "mimetype": "text/x-python",
   "name": "python",
   "nbconvert_exporter": "python",
   "pygments_lexer": "ipython2",
   "version": "2.7.12"
  }
 },
 "nbformat": 4,
 "nbformat_minor": 2
}
