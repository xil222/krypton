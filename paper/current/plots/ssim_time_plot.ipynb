{
 "cells": [
  {
   "cell_type": "code",
   "execution_count": 115,
   "metadata": {},
   "outputs": [],
   "source": [
    "from __future__ import print_function, division\n",
    "\n",
    "import torch\n",
    "import torch.nn as nn\n",
    "import torch.optim as optim\n",
    "from torch.optim import lr_scheduler\n",
    "import numpy as np\n",
    "import torchvision\n",
    "from torchvision import datasets, models, transforms\n",
    "from skimage.measure import compare_ssim as ssim\n",
    "import matplotlib.pyplot as plt\n",
    "import time\n",
    "import os\n",
    "import copy\n",
    "import h5py\n",
    "import sys\n",
    "import math\n",
    "import random\n",
    "import torch\n",
    "import numpy.polynomial.polynomial as poly\n",
    "from PIL import Image\n",
    "import gc\n",
    "\n",
    "sys.path.append('../../../code')\n",
    "\n",
    "from python.finetune_commons import show_images, ft_train_model, visualize_model\n",
    "from python.commons import load_dict_from_hdf5, save_dict_to_hdf5, inc_inference_e2e, full_inference_e2e, adaptive_drilldown, generate_heatmap\n",
    "from python.vgg16 import VGG16\n",
    "from python.resnet18 import ResNet18\n",
    "\n",
    "%matplotlib inline"
   ]
  },
  {
   "cell_type": "code",
   "execution_count": 102,
   "metadata": {},
   "outputs": [],
   "source": [
    "image_size = 224\n",
    "\n",
    "def inc_inference(model, image_file_path, beta, patch_size=4, stride=1,\n",
    "                  adaptive=False, weights_data=None):\n",
    "    if gpu:\n",
    "        torch.cuda.synchronize()\n",
    "    \n",
    "    if not adaptive:\n",
    "        with torch.no_grad():\n",
    "            x = inc_inference_e2e(model, image_file_path, patch_size, stride,\n",
    "                                  batch_size=256, beta=beta, gpu=gpu, version='v1',\n",
    "                                  weights_data=weights_data, n_labels=2, c=0.5)\n",
    "    \n",
    "    if gpu:\n",
    "        torch.cuda.synchronize()\n",
    "\n",
    "    return x\n",
    "\n",
    "loader = transforms.Compose([transforms.Resize([image_size, image_size]), transforms.ToTensor()])"
   ]
  },
  {
   "cell_type": "code",
   "execution_count": 108,
   "metadata": {},
   "outputs": [],
   "source": [
    "gpu = True\n",
    "image_size = 224\n",
    "\n",
    "image_files = []\n",
    "temp = os.listdir('../../../data/oct/DRUSEN_NORMAL/train/DRUSEN')\n",
    "for name in temp:\n",
    "    if name.endswith('jpeg'):\n",
    "        image_files.append('../../../data/oct/DRUSEN_NORMAL/train/DRUSEN/'+name)\n",
    "temp = os.listdir('../../../data/oct/DRUSEN_NORMAL/train/NORMAL')        \n",
    "for name in temp:\n",
    "    if name.endswith('jpeg'):\n",
    "        image_files.append('../../../data/oct/DRUSEN_NORMAL/train/NORMAL/'+name)\n",
    "\n",
    "        \n",
    "file_amount = 10\n",
    "image_files = random.sample(image_files, file_amount)\n",
    "random.shuffle(image_files)\n",
    "\n",
    "train_files = image_files[:file_amount//2]\n",
    "test_files = image_files[file_amount//2:]"
   ]
  },
  {
   "cell_type": "code",
   "execution_count": 104,
   "metadata": {
    "scrolled": false
   },
   "outputs": [
    {
     "data": {
      "image/png": "[encoded data removed]",
      "text/plain": [
       "<Figure size 648x360 with 4 Axes>"
      ]
     },
     "metadata": {},
     "output_type": "display_data"
    }
   ],
   "source": [
    "patch_size = 16\n",
    "stride = 1\n",
    "\n",
    "taus = [1.0, 0.9, 0.8, 0.7, 0.6, 0.5, 0.4]\n",
    "\n",
    "plt.figure(figsize=(9,5))\n",
    "\n",
    "i = 1\n",
    "\n",
    "ssim_curve_fits = {}\n",
    "time_curve_fits = {}\n",
    "\n",
    "for model,model_name,weight_file in zip([VGG16, ResNet18], ['VGG16', 'ResNet18', 'ResNet18'],\n",
    "    ['../../../code/python/vgg16_weights_ptch.h5', '../../../code/python/resnet18_weights_ptch.h5',\n",
    "        '../../../code/python/resnet18_weights_ptch.h5']):\n",
    "    \n",
    "    weights_data = load_dict_from_hdf5(weight_file, gpu=gpu)\n",
    "    temp_weights_data = load_dict_from_hdf5('../../../exps/oct_drusen_'+model_name.lower()+'_ptch.h5', gpu=gpu)\n",
    "    \n",
    "    if model_name == 'VGG16':\n",
    "        weights_data['fc8_W:0'] = temp_weights_data['fc8_W:0']\n",
    "        weights_data['fc8_b:0'] = temp_weights_data['fc8_b:0']\n",
    "    else:\n",
    "        weights_data['fc:w'] = temp_weights_data['fc:w']\n",
    "        weights_data['fc:b'] = temp_weights_data['fc:b']\n",
    "\n",
    "    x_vals = []\n",
    "    y_ssim = []\n",
    "    y_time = []\n",
    "    \n",
    "    for file_path in train_files:\n",
    "        \n",
    "        #x = full_inference_e2e(model, file_path, patch_size, stride, batch_size=128,\n",
    "        #                       gpu=gpu, weights_data=weights_data, c=0.5, version='v1', n_labels=2)\n",
    "        x = inc_inference(model, file_path, 1.0, patch_size=patch_size, stride=stride,\n",
    "                             weights_data=weights_data)\n",
    "        \n",
    "        orig_hm = generate_heatmap(file_path, x, show=False, label=\"\")\n",
    "        \n",
    "        for beta in taus:\n",
    "            prev_time = time.time()\n",
    "            x = inc_inference(model, file_path, beta, patch_size=patch_size, stride=stride,\n",
    "                             weights_data=weights_data)\n",
    "            inc_inference_time = time.time()-prev_time\n",
    "            hm = generate_heatmap(file_path, x, show=False, label=\"\")\n",
    "\n",
    "            if hm.shape[0] < 7:\n",
    "                win_size=3\n",
    "            else:\n",
    "                win_size=None\n",
    "            \n",
    "            ssim_value = ssim(orig_hm, hm, data_range=255, multichannel=True, win_size=win_size)\n",
    "            x_vals.append(beta)\n",
    "            y_ssim.append(ssim_value)\n",
    "            y_time.append(inc_inference_time)\n",
    "            \n",
    "            gc.collect()\n",
    "            torch.cuda.empty_cache()\n",
    "    \n",
    "    ssim_curve_fits[model_name] = poly.Polynomial(poly.polyfit(np.array(y_ssim), np.array(x_vals), 3))\n",
    "    time_curve_fits[model_name] = poly.Polynomial(poly.polyfit(np.array(y_time), np.array(x_vals), 3))\n",
    "            \n",
    "\n",
    "    ax = plt.subplot(2,3,i)\n",
    "    plt.scatter(x_vals, y_ssim)\n",
    "    ax.set_title(model_name)\n",
    "    \n",
    "    plt.grid()\n",
    "    plt.xticks(taus, taus)\n",
    "\n",
    "    if i == 1:\n",
    "        plt.ylabel('SSIM')\n",
    "        \n",
    "    ax = plt.subplot(2,3,i+3)\n",
    "    plt.scatter(x_vals, y_time)\n",
    "    \n",
    "    plt.grid()\n",
    "    plt.xlabel(r'$(\\tau)$')\n",
    "    plt.xticks(taus, taus)\n",
    "\n",
    "    if i == 1:\n",
    "        plt.ylabel('Time (s)')\n",
    "\n",
    "\n",
    "    i = i + 1\n",
    "    \n",
    "plt.subplots_adjust(top=0.8)\n",
    "plt.savefig('../images/ssim_tau.pdf', bbox_inches='tight')\n",
    "plt.show()    "
   ]
  },
  {
   "cell_type": "code",
   "execution_count": 116,
   "metadata": {},
   "outputs": [
    {
     "data": {
      "image/png": "[encoded data removed]",
      "text/plain": [
       "<Figure size 648x180 with 2 Axes>"
      ]
     },
     "metadata": {},
     "output_type": "display_data"
    }
   ],
   "source": [
    "plt.figure(figsize=(9,2.5))\n",
    "\n",
    "i = 1\n",
    "\n",
    "for model,model_name,weight_file in zip([VGG16, ResNet18], ['VGG16', 'ResNet18', 'ResNet18'],\n",
    "    ['../../../code/python/vgg16_weights_ptch.h5', '../../../code/python/resnet18_weights_ptch.h5',\n",
    "        '../../../code/python/resnet18_weights_ptch.h5']):\n",
    "    \n",
    "    weights_data = load_dict_from_hdf5(weight_file, gpu=gpu)\n",
    "    temp_weights_data = load_dict_from_hdf5('../../../exps/oct_drusen_'+model_name.lower()+'_ptch.h5', gpu=gpu)\n",
    "    \n",
    "    if model_name == 'VGG16':\n",
    "        weights_data['fc8_W:0'] = temp_weights_data['fc8_W:0']\n",
    "        weights_data['fc8_b:0'] = temp_weights_data['fc8_b:0']\n",
    "    else:\n",
    "        weights_data['fc:w'] = temp_weights_data['fc:w']\n",
    "        weights_data['fc:b'] = temp_weights_data['fc:b']\n",
    "\n",
    "    y_ssim = []\n",
    "    \n",
    "    ssim_threshold = 0.95\n",
    "\n",
    "    ssim_tau = max(math.ceil(ssim_curve_fits[model_name](ssim_threshold)*10)/10, 0.4)\n",
    "\n",
    "    for file_path in test_files:\n",
    "        x = inc_inference(model, file_path, 1.0, patch_size=patch_size, stride=stride,\n",
    "                             weights_data=weights_data)\n",
    "        \n",
    "        orig_hm = generate_heatmap(file_path, x, show=False, label=\"\")\n",
    "        \n",
    "        x = inc_inference(model, file_path, ssim_tau, patch_size=patch_size, stride=stride,\n",
    "                         weights_data=weights_data)\n",
    "        hm = generate_heatmap(file_path, x, show=False, label=\"\")\n",
    "\n",
    "        if hm.shape[0] < 7:\n",
    "            win_size=3\n",
    "        else:\n",
    "            win_size=None\n",
    "        \n",
    "        ssim_value = ssim(orig_hm, hm, data_range=255, multichannel=True, win_size=win_size)\n",
    "        y_ssim.append(abs(ssim_value-ssim_threshold))\n",
    "        \n",
    "    ax = plt.subplot(2,3,i)\n",
    "    unique, counts = np.unique(y_ssim, return_counts=True)\n",
    "    \n",
    "    plt.plot(unique, np.cumsum(counts)/np.sum(counts))\n",
    "    \n",
    "    ax.set_title(model_name)\n",
    "    plt.grid()\n",
    "    \n",
    "    i+=1\n",
    "    \n",
    "plt.savefig('../images/ssim_cdf.pdf', bbox_inches='tight')    "
   ]
  },
  {
   "cell_type": "code",
   "execution_count": 112,
   "metadata": {},
   "outputs": [
    {
     "data": {
      "text/plain": [
       "0.7730265792353634"
      ]
     },
     "execution_count": 112,
     "metadata": {},
     "output_type": "execute_result"
    }
   ],
   "source": [
    "ssim_curve_fits['VGG16'](1.0)"
   ]
  },
  {
   "cell_type": "code",
   "execution_count": 97,
   "metadata": {},
   "outputs": [
    {
     "data": {
      "text/plain": [
       "0.4"
      ]
     },
     "execution_count": 97,
     "metadata": {},
     "output_type": "execute_result"
    }
   ],
   "source": [
    "ssim_tau"
   ]
  },
  {
   "cell_type": "code",
   "execution_count": null,
   "metadata": {},
   "outputs": [],
   "source": []
  }
 ],
 "metadata": {
  "kernelspec": {
   "display_name": "Python 2",
   "language": "python",
   "name": "python2"
  },
  "language_info": {
   "codemirror_mode": {
    "name": "ipython",
    "version": 2
   },
   "file_extension": ".py",
   "mimetype": "text/x-python",
   "name": "python",
   "nbconvert_exporter": "python",
   "pygments_lexer": "ipython2",
   "version": "2.7.12"
  }
 },
 "nbformat": 4,
 "nbformat_minor": 2
}
