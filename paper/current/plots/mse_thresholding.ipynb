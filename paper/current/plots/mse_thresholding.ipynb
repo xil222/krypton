{
 "cells": [
  {
   "cell_type": "code",
   "execution_count": 1,
   "metadata": {},
   "outputs": [
    {
     "name": "stderr",
     "output_type": "stream",
     "text": [
      "/usr/local/lib/python2.7/dist-packages/h5py/__init__.py:36: FutureWarning: Conversion of the second argument of issubdtype from `float` to `np.floating` is deprecated. In future, it will be treated as `np.float64 == np.dtype(float).type`.\n",
      "  from ._conv import register_converters as _register_converters\n"
     ]
    }
   ],
   "source": [
    "from __future__ import print_function, division\n",
    "\n",
    "import torch\n",
    "import torch.nn as nn\n",
    "import torch.optim as optim\n",
    "from torch.optim import lr_scheduler\n",
    "import numpy as np\n",
    "import torchvision\n",
    "from torchvision import datasets, models, transforms\n",
    "from skimage.measure import compare_ssim as ssim\n",
    "import matplotlib.pyplot as plt\n",
    "import time\n",
    "import os\n",
    "import copy\n",
    "import h5py\n",
    "import sys\n",
    "import torch\n",
    "from PIL import Image\n",
    "import gc\n",
    "\n",
    "sys.path.append('../../../code')\n",
    "\n",
    "from python.finetune_commons import show_images, ft_train_model, visualize_model\n",
    "from python.commons import load_dict_from_hdf5, save_dict_to_hdf5, inc_inference_e2e, full_inference_e2e, adaptive_drilldown, generate_heatmap\n",
    "from python.vgg16 import VGG16\n",
    "from python.resnet18 import ResNet18\n",
    "\n",
    "%matplotlib inline"
   ]
  },
  {
   "cell_type": "code",
   "execution_count": 57,
   "metadata": {},
   "outputs": [],
   "source": [
    "n_labels = 1000\n",
    "gpu = True\n",
    "image_size = 224\n",
    "c = 0.5\n",
    "\n",
    "file_paths = [\n",
    "    '../../../data/oct/DRUSEN_NORMAL/validation/DRUSEN/DRUSEN-5333808-1.jpeg',\n",
    "    '../../../data/oct/DRUSEN_NORMAL/validation/DRUSEN/DRUSEN-1020679-5.jpeg',\n",
    "    '../../../data/oct/DRUSEN_NORMAL/validation/DRUSEN/DRUSEN-1112835-10.jpeg',\n",
    "    '../../../data/oct/DRUSEN_NORMAL/validation/DRUSEN/DRUSEN-1130960-76.jpeg',\n",
    "    '../../../data/oct/DRUSEN_NORMAL/validation/DRUSEN/DRUSEN-1169820-1.jpeg',\n",
    "    '../../../data/oct/DRUSEN_NORMAL/validation/DRUSEN/DRUSEN-1146923-28.jpeg',\n",
    "    '../../../data/oct/DRUSEN_NORMAL/validation/NORMAL/NORMAL-1007507-1.jpeg',\n",
    "    '../../../data/oct/DRUSEN_NORMAL/validation/NORMAL/NORMAL-1007507-1.jpeg',\n",
    "    '../../../data/oct/DRUSEN_NORMAL/validation/NORMAL/NORMAL-1007507-1.jpeg',\n",
    "    '../../../data/oct/DRUSEN_NORMAL/validation/NORMAL/NORMAL-1001772-3.jpeg'    \n",
    "]"
   ]
  },
  {
   "cell_type": "code",
   "execution_count": 58,
   "metadata": {},
   "outputs": [],
   "source": [
    "loader = transforms.Compose([transforms.Resize([image_size, image_size]), transforms.ToTensor()])\n",
    "\n",
    "def get_image(file_path):\n",
    "    orig_image = torch.FloatTensor(1, 3, image_size, image_size)\n",
    "\n",
    "    temp_image = Image.open(file_path).convert('RGB')\n",
    "    temp_image = loader(temp_image)\n",
    "    orig_image[0] = temp_image\n",
    "\n",
    "    if gpu:\n",
    "        orig_image = orig_image.cuda()\n",
    "        \n",
    "    return orig_image"
   ]
  },
  {
   "cell_type": "code",
   "execution_count": 60,
   "metadata": {},
   "outputs": [
    {
     "data": {
      "image/png": "[encoded data removed]",
      "text/plain": [
       "<Figure size 648x180 with 3 Axes>"
      ]
     },
     "metadata": {},
     "output_type": "display_data"
    }
   ],
   "source": [
    "patch_sizes = [4, 8, 12, 16, 20, 24, 28, 32, 36]\n",
    "markers = ['<', 'o', 'v', '^', '>', '2', '1']\n",
    "\n",
    "plt.figure(figsize=(9,2.5))\n",
    "\n",
    "i = 1\n",
    "\n",
    "for model,model_name,weight_file in zip([VGG16, ResNet18, ResNet18], ['VGG16', 'ResNet18', 'InceptionV3'],\n",
    "                                       ['../../../code/python/vgg16_weights_ptch.h5',\n",
    "                                       '../../../code/python/resnet18_weights_ptch.h5',\n",
    "                                        '../../../code/python/resnet18_weights_ptch.h5',\n",
    "                                       ]):\n",
    "    \n",
    "    for beta,m in zip([1.0, 0.8, 0.6, 0.5, 0.4], markers):        \n",
    "        r = []\n",
    "        ax = plt.subplot(1, 3, i)\n",
    "        for patch_size in patch_sizes:\n",
    "                            \n",
    "            temp = 0\n",
    "            \n",
    "            for file_path in file_paths:\n",
    "                orig_image = get_image(file_path)\n",
    "            \n",
    "                image_patches = torch.FloatTensor(1, 3, patch_size, patch_size).fill_(c)\n",
    "\n",
    "                ####### tau=1.0 #######                \n",
    "                locations = torch.zeros([1, 2], dtype=torch.int32)\n",
    "                locations[0][0] = (image_size-patch_size)//2\n",
    "                locations[0][1] = (image_size-patch_size)//2\n",
    "\n",
    "                weights_data = load_dict_from_hdf5(weight_file, gpu=True)\n",
    "\n",
    "                inc_model = model(beta=1.0, gpu=gpu, n_labels=n_labels, weights_data=weights_data)\n",
    "                inc_model.forward_materialized(orig_image)\n",
    "                logits_10 = inc_model.forward_gpu(image_patches, locations, p_height=patch_size, p_width=patch_size)\n",
    "\n",
    "                ###### tau <= 1.0 ######\n",
    "                #locations = torch.zeros([1, 2], dtype=torch.int32)\n",
    "                locations[0][0] = (image_size-patch_size)//2\n",
    "                locations[0][1] = (image_size-patch_size)//2\n",
    "\n",
    "                weights_data = load_dict_from_hdf5(weight_file, gpu=True)\n",
    "\n",
    "                inc_model = model(beta=beta, gpu=gpu, n_labels=n_labels, weights_data=weights_data)\n",
    "                inc_model.forward_materialized(orig_image)\n",
    "\n",
    "                logits = inc_model.forward_gpu(image_patches, locations, p_height=patch_size, p_width=patch_size)\n",
    "\n",
    "                temp2 = logits_10 - logits\n",
    "                temp2 = temp2.cpu().data.numpy()\n",
    "                temp2 = np.square(temp2)\n",
    "                temp2 = np.sum(temp2)\n",
    "                \n",
    "                temp += temp2\n",
    "            \n",
    "            r.append(temp/len(file_paths))\n",
    "\n",
    "        plt.plot(patch_sizes, r, label=r'$\\tau = $' + str(beta), marker=m)\n",
    "        ax.set_title(model_name)\n",
    "        plt.ticklabel_format(style='sci', axis='y', scilimits=(0,0))\n",
    "\n",
    "    plt.grid()\n",
    "    plt.xlabel('Patch Size')\n",
    "    plt.xticks(patch_sizes, patch_sizes)\n",
    "\n",
    "    if i == 1:\n",
    "        plt.ylabel('MSE')\n",
    "\n",
    "    i = i + 1\n",
    "    \n",
    "lgd = plt.legend(loc='lower center', bbox_to_anchor=(-0.7, -0.47), ncol=7)\n",
    "stit = plt.suptitle('(b)')\n",
    "plt.subplots_adjust(top=0.8)\n",
    "plt.savefig('../images/mse_thresholding.pdf', bbox_extra_artists=(lgd,stit,), bbox_inches='tight')\n",
    "plt.show()"
   ]
  },
  {
   "cell_type": "code",
   "execution_count": null,
   "metadata": {},
   "outputs": [],
   "source": []
  }
 ],
 "metadata": {
  "kernelspec": {
   "display_name": "Python 2",
   "language": "python",
   "name": "python2"
  },
  "language_info": {
   "codemirror_mode": {
    "name": "ipython",
    "version": 2
   },
   "file_extension": ".py",
   "mimetype": "text/x-python",
   "name": "python",
   "nbconvert_exporter": "python",
   "pygments_lexer": "ipython2",
   "version": "2.7.12"
  }
 },
 "nbformat": 4,
 "nbformat_minor": 2
}
