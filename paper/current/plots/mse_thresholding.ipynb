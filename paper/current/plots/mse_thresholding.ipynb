{
 "cells": [
  {
   "cell_type": "code",
   "execution_count": 1,
   "metadata": {},
   "outputs": [
    {
     "name": "stderr",
     "output_type": "stream",
     "text": [
      "/usr/local/lib/python2.7/dist-packages/h5py/__init__.py:36: FutureWarning: Conversion of the second argument of issubdtype from `float` to `np.floating` is deprecated. In future, it will be treated as `np.float64 == np.dtype(float).type`.\n",
      "  from ._conv import register_converters as _register_converters\n"
     ]
    }
   ],
   "source": [
    "from __future__ import print_function, division\n",
    "\n",
    "import torch\n",
    "import torch.nn as nn\n",
    "import torch.optim as optim\n",
    "from torch.optim import lr_scheduler\n",
    "import numpy as np\n",
    "import torchvision\n",
    "from torchvision import datasets, models, transforms\n",
    "from skimage.measure import compare_ssim as ssim\n",
    "import matplotlib.pyplot as plt\n",
    "import time\n",
    "import os\n",
    "import copy\n",
    "import h5py\n",
    "import sys\n",
    "import torch\n",
    "from PIL import Image\n",
    "import gc\n",
    "\n",
    "sys.path.append('../../../code')\n",
    "\n",
    "from python.finetune_commons import show_images, ft_train_model, visualize_model\n",
    "from python.commons import load_dict_from_hdf5, save_dict_to_hdf5, inc_inference_e2e, full_inference_e2e, adaptive_drilldown, generate_heatmap\n",
    "from python.vgg16 import VGG16\n",
    "\n",
    "%matplotlib inline"
   ]
  },
  {
   "cell_type": "code",
   "execution_count": 25,
   "metadata": {},
   "outputs": [],
   "source": [
    "n_labels = 2\n",
    "gpu=True\n",
    "patch_size = 32\n",
    "beta = 0.7\n",
    "image_size = 224\n",
    "c = 0.0\n",
    "file_path = '../../../data/oct/DRUSEN_NORMAL/validation/DRUSEN/DRUSEN-5333808-1.jpeg'"
   ]
  },
  {
   "cell_type": "code",
   "execution_count": 26,
   "metadata": {},
   "outputs": [],
   "source": [
    "temp_weights_data = load_dict_from_hdf5('../../../exps/oct_drusen_vgg16_ptch.h5', gpu=True)\n",
    "weights_data = load_dict_from_hdf5('../../../code/python/vgg16_weights_ptch.h5', gpu=True)\n",
    "weights_data['fc8_W:0'] = temp_weights_data['fc8_W:0']\n",
    "weights_data['fc8_b:0'] = temp_weights_data['fc8_b:0']"
   ]
  },
  {
   "cell_type": "code",
   "execution_count": 27,
   "metadata": {},
   "outputs": [
    {
     "name": "stdout",
     "output_type": "stream",
     "text": [
      "0.0\n",
      "0.0\n",
      "4.851637e-08\n",
      "8.024915e-06\n",
      "0.0021176692\n",
      "0.0024987706\n",
      "0.0025034887\n",
      "0.0061079026\n",
      "0.02723222\n"
     ]
    }
   ],
   "source": [
    "loader = transforms.Compose([transforms.Resize([image_size, image_size]), transforms.ToTensor()])\n",
    "orig_image = Image.open(file_path).convert('RGB')\n",
    "orig_image = loader(orig_image).unsqueeze(0)\n",
    "\n",
    "if gpu:\n",
    "    orig_image = orig_image.cuda()\n",
    "\n",
    "\n",
    "image_patches = torch.FloatTensor(3, patch_size, patch_size).fill_(c).repeat(1, 1, 1, 1)\n",
    "\n",
    "locations = torch.zeros([1, 2], dtype=torch.int32)\n",
    "locations[0][0] = (image_size-patch_size)//2\n",
    "locations[0][1] = (image_size-patch_size)//2\n",
    "\n",
    "beta = 1.0\n",
    "inc_model = VGG16(beta=beta, gpu=gpu, n_labels=n_labels, weights_data=weights_data)\n",
    "inc_model.forward_materialized(orig_image)\n",
    "logits_10 = inc_model.forward_gpu(image_patches, locations, p_height=patch_size, p_width=patch_size)\n",
    "\n",
    "for beta in [1.0, 0.9, 0.8, 0.7, 0.6, 0.5, 0.4, 0.3, 0.2]:\n",
    "    \n",
    "    orig_image = Image.open(file_path).convert('RGB')\n",
    "    orig_image = loader(orig_image).unsqueeze(0)\n",
    "\n",
    "    if gpu:\n",
    "        orig_image = orig_image.cuda()\n",
    "\n",
    "\n",
    "    image_patches = torch.FloatTensor(3, patch_size, patch_size).fill_(c).repeat(1, 1, 1, 1)\n",
    "    \n",
    "    locations = torch.zeros([1, 2], dtype=torch.int32)\n",
    "    locations[0][0] = (image_size-patch_size)//2\n",
    "    locations[0][1] = (image_size-patch_size)//2\n",
    "    \n",
    "    inc_model = VGG16(beta=beta, gpu=gpu, n_labels=n_labels, weights_data=weights_data)\n",
    "    inc_model.forward_materialized(orig_image)\n",
    "\n",
    "    logits = inc_model.forward_gpu(image_patches, locations, p_height=patch_size, p_width=patch_size)\n",
    "        \n",
    "    temp = logits_10 - logits\n",
    "    temp = temp.cpu().data.numpy()\n",
    "    temp = np.square(temp)\n",
    "    temp = np.mean(temp)\n",
    "    \n",
    "    print(temp)"
   ]
  },
  {
   "cell_type": "code",
   "execution_count": null,
   "metadata": {},
   "outputs": [],
   "source": []
  }
 ],
 "metadata": {
  "kernelspec": {
   "display_name": "Python 2",
   "language": "python",
   "name": "python2"
  },
  "language_info": {
   "codemirror_mode": {
    "name": "ipython",
    "version": 2
   },
   "file_extension": ".py",
   "mimetype": "text/x-python",
   "name": "python",
   "nbconvert_exporter": "python",
   "pygments_lexer": "ipython2",
   "version": "2.7.12"
  }
 },
 "nbformat": 4,
 "nbformat_minor": 2
}
